{
 "cells": [
  {
   "cell_type": "code",
   "execution_count": 1,
   "metadata": {},
   "outputs": [],
   "source": [
    "import pyaudio\n",
    "import wave \n",
    "from time import sleep"
   ]
  },
  {
   "cell_type": "code",
   "execution_count": 19,
   "metadata": {},
   "outputs": [
    {
     "name": "stdout",
     "output_type": "stream",
     "text": [
      "recording start...\n",
      "recording  end...\n"
     ]
    }
   ],
   "source": [
    "watch_time=240\n",
    "rec_time = 3            # 録音時間[s]\n",
    "\n",
    "sleep(watch_time-rec_time)\n",
    "\n",
    "file_path = \"./t_fal_audio/4-premin.wav\" #音声を保存するファイル名\n",
    "fmt = pyaudio.paInt16  # 音声のフォーマット\n",
    "ch = 1              # チャンネル1(モノラル)\n",
    "sampling_rate = 44100 # サンプリング周波数\n",
    "chunk = 2**11       # チャンク（データ点数）\n",
    "audio = pyaudio.PyAudio()\n",
    "index = 1 # 録音デバイスのインデックス番号（デフォルト1）\n",
    "\n",
    "stream = audio.open(format=fmt, channels=ch, rate=sampling_rate, input=True,\n",
    "                    input_device_index = index,\n",
    "                    frames_per_buffer=chunk)\n",
    "print(\"recording start...\")\n",
    "\n",
    "# 録音処理\n",
    "frames = []\n",
    "for i in range(0, int(sampling_rate / chunk * rec_time)):\n",
    "    data = stream.read(chunk)\n",
    "    frames.append(data)\n",
    "\n",
    "print(\"recording  end...\")\n",
    "\n",
    "# 録音終了処理\n",
    "stream.stop_stream()\n",
    "stream.close()\n",
    "audio.terminate()\n",
    "\n",
    "# 録音データをファイルに保存\n",
    "wav = wave.open(file_path, 'wb')\n",
    "wav.setnchannels(ch)\n",
    "wav.setsampwidth(audio.get_sample_size(fmt))\n",
    "wav.setframerate(sampling_rate)\n",
    "wav.writeframes(b''.join(frames))\n",
    "wav.close()"
   ]
  },
  {
   "cell_type": "code",
   "execution_count": null,
   "metadata": {},
   "outputs": [],
   "source": []
  },
  {
   "cell_type": "code",
   "execution_count": null,
   "metadata": {},
   "outputs": [],
   "source": []
  }
 ],
 "metadata": {
  "kernelspec": {
   "display_name": "Python 3",
   "language": "python",
   "name": "python3"
  },
  "language_info": {
   "codemirror_mode": {
    "name": "ipython",
    "version": 3
   },
   "file_extension": ".py",
   "mimetype": "text/x-python",
   "name": "python",
   "nbconvert_exporter": "python",
   "pygments_lexer": "ipython3",
   "version": "3.6.7"
  }
 },
 "nbformat": 4,
 "nbformat_minor": 2
}
