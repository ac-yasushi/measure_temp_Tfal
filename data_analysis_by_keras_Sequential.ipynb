{
 "cells": [
  {
   "cell_type": "markdown",
   "metadata": {},
   "source": [
    "## 指定のディレクトリからデータを読みだして学習に掛ける"
   ]
  },
  {
   "cell_type": "code",
   "execution_count": 1,
   "metadata": {},
   "outputs": [
    {
     "name": "stderr",
     "output_type": "stream",
     "text": [
      "Using TensorFlow backend.\n"
     ]
    }
   ],
   "source": [
    "import numpy as np\n",
    "import tensorflow as tf\n",
    "import keras\n",
    "import matplotlib.pyplot as plt\n",
    "import tensorflow.keras.backend as K"
   ]
  },
  {
   "cell_type": "code",
   "execution_count": 2,
   "metadata": {},
   "outputs": [],
   "source": [
    "with open(\"./t_fal_audio_data/np_data.dat\", mode=\"rb\") as f:\n",
    "    data=np.fromfile(f,dtype=float)"
   ]
  },
  {
   "cell_type": "markdown",
   "metadata": {},
   "source": [
    "### データは1配列で返されるので書き込み時の状態に変換する"
   ]
  },
  {
   "cell_type": "code",
   "execution_count": 3,
   "metadata": {},
   "outputs": [
    {
     "name": "stdout",
     "output_type": "stream",
     "text": [
      "<class 'numpy.ndarray'>\n",
      "40\n",
      "4097\n",
      "[0.214      0.11075341 0.15259981 ... 0.02155629 0.05022515 0.15259981]\n"
     ]
    }
   ],
   "source": [
    "size=2**12 #サンプリングのデータサイズを入力\n",
    "n=int(len(data)/(size+1))\n",
    "\n",
    "data=data.reshape((n, size+1))\n",
    "\n",
    "print(type(data))\n",
    "print(len(data))\n",
    "print(len(data[0]))\n",
    "print(data[0])"
   ]
  },
  {
   "cell_type": "code",
   "execution_count": 4,
   "metadata": {},
   "outputs": [
    {
     "name": "stdout",
     "output_type": "stream",
     "text": [
      "4096\n",
      "[0.214 0.24  0.265 0.345 0.308 0.346 0.33  0.34  0.42  0.38  0.431 0.423\n",
      " 0.482 0.479 0.501 0.503 0.513 0.579 0.55  0.567 0.592 0.689 0.636 0.661\n",
      " 0.671 0.69  0.718 0.759 0.75  0.775 0.856 0.795 0.831 0.833 0.861 0.91\n",
      " 0.886 0.92  0.942 0.94 ]\n",
      "<class 'numpy.float64'>\n"
     ]
    }
   ],
   "source": [
    "temp_data=np.array([])\n",
    "sound_data=np.array([])\n",
    "for i in range(len(data)):\n",
    "    temp_data=np.append(temp_data, data[i][0].real)\n",
    "    sound_data=np.append(sound_data, data[i][1:])\n",
    "\n",
    "sound_data=sound_data.reshape((n,size))\n",
    "\n",
    "\"\"\"\n",
    "temp_data:測定温度の配列(float)\n",
    "sound_data:音声スペクトルデータの2次元配列([[complex]...[]])\n",
    "\"\"\"\n",
    "\n",
    "    \n",
    "print(len(sound_data[0]))\n",
    "print(temp_data)\n",
    "print(type(temp_data[0]))"
   ]
  },
  {
   "cell_type": "markdown",
   "metadata": {},
   "source": [
    "<font size=5 color=\"red\">予測データの用意</font>"
   ]
  },
  {
   "cell_type": "code",
   "execution_count": 5,
   "metadata": {},
   "outputs": [
    {
     "name": "stdout",
     "output_type": "stream",
     "text": [
      "[33.  42.2 49.8 60.5 67.  70.5 75.9 82.1 85.8 91.7]\n",
      "[[0.07170207 0.08974837 0.0852675  ... 0.07528725 0.0852675  0.08974837]\n",
      " [0.081953   0.09420389 0.10618163 ... 0.0246869  0.10618163 0.09420389]\n",
      " [0.17753448 0.0796667  0.05342869 ... 0.11737094 0.05342869 0.0796667 ]\n",
      " ...\n",
      " [0.01008851 0.07105503 0.08758143 ... 0.03424141 0.08758143 0.07105503]\n",
      " [0.11010878 0.07297494 0.02128973 ... 0.03864819 0.02128973 0.07297494]\n",
      " [0.03787634 0.02785253 0.10334471 ... 0.37592443 0.10334471 0.02785253]]\n"
     ]
    }
   ],
   "source": [
    "with open(\"./t_fal_audio_data/np_prediction_data.dat\", mode=\"rb\") as f:\n",
    "    prediction_data=np.fromfile(f,dtype=float)\n",
    "\n",
    "prediction_data=prediction_data.reshape((10,4097))\n",
    "\n",
    "prediciton_temp_data=np.array([])\n",
    "prediciton_sound_data=np.array([])\n",
    "for i in range(len(prediction_data)):\n",
    "    prediciton_temp_data=np.append(prediciton_temp_data, prediction_data[i][0])\n",
    "    prediciton_sound_data=np.append(prediciton_sound_data, prediction_data[i][1:])\n",
    "    \n",
    "prediciton_sound_data=prediciton_sound_data.reshape((10,4096))\n",
    "\n",
    "print(prediciton_temp_data)\n",
    "print(prediciton_sound_data)"
   ]
  },
  {
   "cell_type": "markdown",
   "metadata": {},
   "source": [
    "# TFのkerasで学習装置を実装してみる"
   ]
  },
  {
   "cell_type": "code",
   "execution_count": 6,
   "metadata": {},
   "outputs": [
    {
     "name": "stdout",
     "output_type": "stream",
     "text": [
      "WARNING:tensorflow:From C:\\Users\\sabam\\Anaconda3\\lib\\site-packages\\tensorflow\\python\\framework\\op_def_library.py:263: colocate_with (from tensorflow.python.framework.ops) is deprecated and will be removed in a future version.\n",
      "Instructions for updating:\n",
      "Colocations handled automatically by placer.\n"
     ]
    }
   ],
   "source": [
    "model=keras.Sequential([\n",
    "    keras.layers.Dense(4096, activation=tf.nn.relu, input_dim=4096),\n",
    "    keras.layers.Dense(512, activation=tf.nn.relu),\n",
    "    keras.layers.Dense(128, activation=tf.nn.relu),\n",
    "    keras.layers.Dense(10, activation=tf.nn.relu),\n",
    "    keras.layers.Dense(1)\n",
    "])"
   ]
  },
  {
   "cell_type": "code",
   "execution_count": 8,
   "metadata": {},
   "outputs": [
    {
     "name": "stdout",
     "output_type": "stream",
     "text": [
      "_________________________________________________________________\n",
      "Layer (type)                 Output Shape              Param #   \n",
      "=================================================================\n",
      "dense_1 (Dense)              (None, 4096)              16781312  \n",
      "_________________________________________________________________\n",
      "dense_2 (Dense)              (None, 512)               2097664   \n",
      "_________________________________________________________________\n",
      "dense_3 (Dense)              (None, 128)               65664     \n",
      "_________________________________________________________________\n",
      "dense_4 (Dense)              (None, 10)                1290      \n",
      "_________________________________________________________________\n",
      "dense_5 (Dense)              (None, 1)                 11        \n",
      "=================================================================\n",
      "Total params: 18,945,941\n",
      "Trainable params: 18,945,941\n",
      "Non-trainable params: 0\n",
      "_________________________________________________________________\n",
      "None\n"
     ]
    }
   ],
   "source": [
    "#optimizer = tf.train.RMSPropOptimizer(0.5)\n",
    "optimizer = keras.optimizers.Adadelta()\n",
    "\n",
    "def abs_percent(y_ture, y_pred):\n",
    "    return 1-abs((y_pred-y_ture)/y_ture)\n",
    "\n",
    "\"\"\"\n",
    "model.compile(loss='mse',\n",
    "            optimizer=optimizer,\n",
    "            metrics=[abs_percent])\n",
    "\"\"\"\n",
    "model.compile(loss='mse',\n",
    "            optimizer=optimizer)\n",
    "\n",
    "print(model.summary())"
   ]
  },
  {
   "cell_type": "code",
   "execution_count": 9,
   "metadata": {},
   "outputs": [
    {
     "name": "stdout",
     "output_type": "stream",
     "text": [
      "WARNING:tensorflow:From C:\\Users\\sabam\\Anaconda3\\lib\\site-packages\\tensorflow\\python\\ops\\math_ops.py:3066: to_int32 (from tensorflow.python.ops.math_ops) is deprecated and will be removed in a future version.\n",
      "Instructions for updating:\n",
      "Use tf.cast instead.\n",
      "Epoch 1/50\n",
      "40/40 [==============================] - 2s 39ms/step - loss: 1.1592\n",
      "Epoch 2/50\n",
      "40/40 [==============================] - 1s 15ms/step - loss: 0.2495\n",
      "Epoch 3/50\n",
      "40/40 [==============================] - 1s 15ms/step - loss: 0.0747\n",
      "Epoch 4/50\n",
      "40/40 [==============================] - 1s 16ms/step - loss: 0.0481\n",
      "Epoch 5/50\n",
      "40/40 [==============================] - 1s 15ms/step - loss: 0.0365\n",
      "Epoch 6/50\n",
      "40/40 [==============================] - 1s 16ms/step - loss: 0.0539\n",
      "Epoch 7/50\n",
      "40/40 [==============================] - 1s 16ms/step - loss: 0.0444\n",
      "Epoch 8/50\n",
      "40/40 [==============================] - 1s 16ms/step - loss: 0.0270\n",
      "Epoch 9/50\n",
      "40/40 [==============================] - 1s 15ms/step - loss: 0.0488\n",
      "Epoch 10/50\n",
      "40/40 [==============================] - 1s 15ms/step - loss: 0.0413\n",
      "Epoch 11/50\n",
      "40/40 [==============================] - 1s 15ms/step - loss: 0.0236\n",
      "Epoch 12/50\n",
      "40/40 [==============================] - 1s 15ms/step - loss: 0.0883\n",
      "Epoch 13/50\n",
      "40/40 [==============================] - 1s 15ms/step - loss: 0.0258\n",
      "Epoch 14/50\n",
      "40/40 [==============================] - 1s 15ms/step - loss: 0.0354\n",
      "Epoch 15/50\n",
      "40/40 [==============================] - 1s 15ms/step - loss: 0.0323\n",
      "Epoch 16/50\n",
      "40/40 [==============================] - 1s 15ms/step - loss: 0.0149\n",
      "Epoch 17/50\n",
      "40/40 [==============================] - 1s 15ms/step - loss: 0.0208\n",
      "Epoch 18/50\n",
      "40/40 [==============================] - 1s 14ms/step - loss: 0.0409\n",
      "Epoch 19/50\n",
      "40/40 [==============================] - 1s 15ms/step - loss: 0.0225\n",
      "Epoch 20/50\n",
      "40/40 [==============================] - 1s 15ms/step - loss: 0.0119\n",
      "Epoch 21/50\n",
      "40/40 [==============================] - 1s 15ms/step - loss: 0.0163\n",
      "Epoch 22/50\n",
      "40/40 [==============================] - 1s 15ms/step - loss: 0.0081\n",
      "Epoch 23/50\n",
      "40/40 [==============================] - 1s 15ms/step - loss: 0.0116\n",
      "Epoch 24/50\n",
      "40/40 [==============================] - 1s 14ms/step - loss: 0.0131\n",
      "Epoch 25/50\n",
      "40/40 [==============================] - 1s 15ms/step - loss: 0.0108\n",
      "Epoch 26/50\n",
      "40/40 [==============================] - 1s 14ms/step - loss: 0.0142\n",
      "Epoch 27/50\n",
      "40/40 [==============================] - 1s 14ms/step - loss: 0.0190\n",
      "Epoch 28/50\n",
      "40/40 [==============================] - 1s 16ms/step - loss: 0.0093\n",
      "Epoch 29/50\n",
      "40/40 [==============================] - 1s 16ms/step - loss: 0.0057\n",
      "Epoch 30/50\n",
      "40/40 [==============================] - 1s 18ms/step - loss: 0.0051\n",
      "Epoch 31/50\n",
      "40/40 [==============================] - 1s 18ms/step - loss: 0.0045\n",
      "Epoch 32/50\n",
      "40/40 [==============================] - 1s 18ms/step - loss: 0.0028\n",
      "Epoch 33/50\n",
      "40/40 [==============================] - 1s 18ms/step - loss: 0.0025\n",
      "Epoch 34/50\n",
      "40/40 [==============================] - 1s 18ms/step - loss: 0.0040\n",
      "Epoch 35/50\n",
      "40/40 [==============================] - 1s 15ms/step - loss: 0.0024\n",
      "Epoch 36/50\n",
      "40/40 [==============================] - 1s 15ms/step - loss: 0.0024\n",
      "Epoch 37/50\n",
      "40/40 [==============================] - 1s 15ms/step - loss: 0.0030\n",
      "Epoch 38/50\n",
      "40/40 [==============================] - 1s 16ms/step - loss: 0.0027\n",
      "Epoch 39/50\n",
      "40/40 [==============================] - 1s 15ms/step - loss: 0.0070\n",
      "Epoch 40/50\n",
      "40/40 [==============================] - 1s 15ms/step - loss: 0.0179\n",
      "Epoch 41/50\n",
      "40/40 [==============================] - 1s 15ms/step - loss: 0.0575\n",
      "Epoch 42/50\n",
      "40/40 [==============================] - 1s 15ms/step - loss: 0.0078\n",
      "Epoch 43/50\n",
      "40/40 [==============================] - 1s 15ms/step - loss: 0.0110\n",
      "Epoch 44/50\n",
      "40/40 [==============================] - 1s 15ms/step - loss: 0.0063\n",
      "Epoch 45/50\n",
      "40/40 [==============================] - 1s 16ms/step - loss: 0.0095\n",
      "Epoch 46/50\n",
      "40/40 [==============================] - 1s 15ms/step - loss: 0.0064\n",
      "Epoch 47/50\n",
      "40/40 [==============================] - 1s 15ms/step - loss: 0.0114\n",
      "Epoch 48/50\n",
      "40/40 [==============================] - 1s 15ms/step - loss: 0.0138\n",
      "Epoch 49/50\n",
      "40/40 [==============================] - 1s 15ms/step - loss: 0.0137\n",
      "Epoch 50/50\n",
      "40/40 [==============================] - 1s 15ms/step - loss: 0.0045\n"
     ]
    },
    {
     "ename": "KeyError",
     "evalue": "'abs_percent'",
     "output_type": "error",
     "traceback": [
      "\u001b[1;31m---------------------------------------------------------------------------\u001b[0m",
      "\u001b[1;31mKeyError\u001b[0m                                  Traceback (most recent call last)",
      "\u001b[1;32m<ipython-input-9-caae29c5d148>\u001b[0m in \u001b[0;36m<module>\u001b[1;34m()\u001b[0m\n\u001b[0;32m     22\u001b[0m \u001b[0mplt\u001b[0m\u001b[1;33m.\u001b[0m\u001b[0mxlim\u001b[0m\u001b[1;33m(\u001b[0m\u001b[1;36m0\u001b[0m\u001b[1;33m,\u001b[0m\u001b[0mepochs\u001b[0m\u001b[1;33m)\u001b[0m\u001b[1;33m\u001b[0m\u001b[0m\n\u001b[0;32m     23\u001b[0m \u001b[0mplt\u001b[0m\u001b[1;33m.\u001b[0m\u001b[0mylim\u001b[0m\u001b[1;33m(\u001b[0m\u001b[1;36m0\u001b[0m\u001b[1;33m,\u001b[0m \u001b[1;36m1\u001b[0m\u001b[1;33m)\u001b[0m\u001b[1;33m\u001b[0m\u001b[0m\n\u001b[1;32m---> 24\u001b[1;33m \u001b[0mplt\u001b[0m\u001b[1;33m.\u001b[0m\u001b[0mplot\u001b[0m\u001b[1;33m(\u001b[0m\u001b[0mfit\u001b[0m\u001b[1;33m.\u001b[0m\u001b[0mhistory\u001b[0m\u001b[1;33m[\u001b[0m\u001b[1;34m'abs_percent'\u001b[0m\u001b[1;33m]\u001b[0m\u001b[1;33m,\u001b[0m \u001b[0mlabel\u001b[0m\u001b[1;33m=\u001b[0m\u001b[1;34m\"acc of training\"\u001b[0m\u001b[1;33m)\u001b[0m\u001b[1;33m\u001b[0m\u001b[0m\n\u001b[0m\u001b[0;32m     25\u001b[0m \u001b[1;32mtry\u001b[0m\u001b[1;33m:\u001b[0m\u001b[1;33m\u001b[0m\u001b[0m\n\u001b[0;32m     26\u001b[0m     \u001b[0mplt\u001b[0m\u001b[1;33m.\u001b[0m\u001b[0mplot\u001b[0m\u001b[1;33m(\u001b[0m\u001b[0mfit\u001b[0m\u001b[1;33m.\u001b[0m\u001b[0mhistory\u001b[0m\u001b[1;33m[\u001b[0m\u001b[1;34m'val_abs_percent'\u001b[0m\u001b[1;33m]\u001b[0m\u001b[1;33m,\u001b[0m \u001b[0mlabel\u001b[0m\u001b[1;33m=\u001b[0m\u001b[1;34m\"acc of validation\"\u001b[0m\u001b[1;33m)\u001b[0m\u001b[1;33m\u001b[0m\u001b[0m\n",
      "\u001b[1;31mKeyError\u001b[0m: 'abs_percent'"
     ]
    },
    {
     "data": {
      "image/png": "[encoded data removed]",
      "text/plain": [
       "<Figure size 1440x720 with 2 Axes>"
      ]
     },
     "metadata": {
      "needs_background": "light"
     },
     "output_type": "display_data"
    }
   ],
   "source": [
    "epochs=50\n",
    "\n",
    "fit=model.fit(sound_data, temp_data, epochs=epochs, callbacks=None, validation_split=0)\n",
    "\n",
    "\n",
    "plt.figure(figsize=(20,10))\n",
    "\n",
    "plt.subplot(1, 2, 1)\n",
    "plt.xlim(0,epochs)\n",
    "plt.ylim(0, 0.5)\n",
    "plt.plot(fit.history['loss'], label=\"loss of training\")\n",
    "try:\n",
    "    plt.plot(fit.history['val_loss'], label=\"loss of validation\")\n",
    "except:\n",
    "    pass\n",
    "plt.title(\"model loss\")\n",
    "plt.xlabel(\"epoch\")\n",
    "plt.ylabel(\"loss\")\n",
    "plt.legend()\n",
    "\n",
    "plt.subplot(1, 2, 2)\n",
    "plt.xlim(0,epochs)\n",
    "plt.ylim(0, 1)\n",
    "plt.plot(fit.history['abs_percent'], label=\"acc of training\")\n",
    "try:\n",
    "    plt.plot(fit.history['val_abs_percent'], label=\"acc of validation\")\n",
    "except:\n",
    "    pass\n",
    "plt.title(\"model accuracy\")\n",
    "plt.xlabel(\"epoch\")\n",
    "plt.ylabel(\"accuracy\")\n",
    "plt.legend()\n",
    "\n",
    "plt.show()http://localhost:8888/notebooks/Git_repository/measure_temp_Tfal/data_analysis_by_keras_Sequential.ipynb"
   ]
  },
  {
   "cell_type": "code",
   "execution_count": 10,
   "metadata": {},
   "outputs": [
    {
     "name": "stdout",
     "output_type": "stream",
     "text": [
      "40/40 [==============================] - 0s 2ms/step\n"
     ]
    },
    {
     "ename": "TypeError",
     "evalue": "'numpy.float64' object is not iterable",
     "output_type": "error",
     "traceback": [
      "\u001b[1;31m---------------------------------------------------------------------------\u001b[0m",
      "\u001b[1;31mTypeError\u001b[0m                                 Traceback (most recent call last)",
      "\u001b[1;32m<ipython-input-10-9d1ffa4a7a48>\u001b[0m in \u001b[0;36m<module>\u001b[1;34m()\u001b[0m\n\u001b[1;32m----> 1\u001b[1;33m \u001b[0mtest_loss\u001b[0m\u001b[1;33m,\u001b[0m \u001b[0mtest_acc\u001b[0m \u001b[1;33m=\u001b[0m \u001b[0mmodel\u001b[0m\u001b[1;33m.\u001b[0m\u001b[0mevaluate\u001b[0m\u001b[1;33m(\u001b[0m\u001b[0msound_data\u001b[0m\u001b[1;33m,\u001b[0m \u001b[0mtemp_data\u001b[0m\u001b[1;33m)\u001b[0m\u001b[1;33m\u001b[0m\u001b[0m\n\u001b[0m\u001b[0;32m      2\u001b[0m \u001b[1;33m\u001b[0m\u001b[0m\n\u001b[0;32m      3\u001b[0m \u001b[0mprint\u001b[0m\u001b[1;33m(\u001b[0m\u001b[1;34m\"Test_loss:\"\u001b[0m\u001b[1;33m,\u001b[0m \u001b[0mtest_loss\u001b[0m\u001b[1;33m)\u001b[0m\u001b[1;33m\u001b[0m\u001b[0m\n\u001b[0;32m      4\u001b[0m \u001b[0mprint\u001b[0m\u001b[1;33m(\u001b[0m\u001b[1;34m\"Test_accuracy:\"\u001b[0m\u001b[1;33m,\u001b[0m \u001b[0mtest_acc\u001b[0m\u001b[1;33m)\u001b[0m\u001b[1;33m\u001b[0m\u001b[0m\n",
      "\u001b[1;31mTypeError\u001b[0m: 'numpy.float64' object is not iterable"
     ]
    }
   ],
   "source": [
    "test_loss, test_acc = model.evaluate(sound_data, temp_data)\n",
    "\n",
    "print(\"Test_loss:\", test_loss)\n",
    "print(\"Test_accuracy:\", test_acc)"
   ]
  },
  {
   "cell_type": "code",
   "execution_count": 11,
   "metadata": {},
   "outputs": [
    {
     "name": "stdout",
     "output_type": "stream",
     "text": [
      "\r",
      "10/10 [==============================] - 0s 2ms/step\n"
     ]
    },
    {
     "ename": "TypeError",
     "evalue": "'numpy.float64' object is not iterable",
     "output_type": "error",
     "traceback": [
      "\u001b[1;31m---------------------------------------------------------------------------\u001b[0m",
      "\u001b[1;31mTypeError\u001b[0m                                 Traceback (most recent call last)",
      "\u001b[1;32m<ipython-input-11-60c836eaaf85>\u001b[0m in \u001b[0;36m<module>\u001b[1;34m()\u001b[0m\n\u001b[1;32m----> 1\u001b[1;33m \u001b[0mtest_loss\u001b[0m\u001b[1;33m,\u001b[0m \u001b[0mtest_acc\u001b[0m \u001b[1;33m=\u001b[0m \u001b[0mmodel\u001b[0m\u001b[1;33m.\u001b[0m\u001b[0mevaluate\u001b[0m\u001b[1;33m(\u001b[0m\u001b[0mprediciton_sound_data\u001b[0m\u001b[1;33m,\u001b[0m \u001b[0mprediciton_temp_data\u001b[0m\u001b[1;33m)\u001b[0m\u001b[1;33m\u001b[0m\u001b[0m\n\u001b[0m\u001b[0;32m      2\u001b[0m \u001b[1;33m\u001b[0m\u001b[0m\n\u001b[0;32m      3\u001b[0m \u001b[0mprint\u001b[0m\u001b[1;33m(\u001b[0m\u001b[1;34m\"Test_loss:\"\u001b[0m\u001b[1;33m,\u001b[0m \u001b[0mtest_loss\u001b[0m\u001b[1;33m)\u001b[0m\u001b[1;33m\u001b[0m\u001b[0m\n\u001b[0;32m      4\u001b[0m \u001b[0mprint\u001b[0m\u001b[1;33m(\u001b[0m\u001b[1;34m\"Test_accuracy:\"\u001b[0m\u001b[1;33m,\u001b[0m \u001b[0mtest_acc\u001b[0m\u001b[1;33m)\u001b[0m\u001b[1;33m\u001b[0m\u001b[0m\n",
      "\u001b[1;31mTypeError\u001b[0m: 'numpy.float64' object is not iterable"
     ]
    }
   ],
   "source": [
    "test_loss, test_acc = model.evaluate(prediciton_sound_data, prediciton_temp_data)\n",
    "\n",
    "print(\"Test_loss:\", test_loss)\n",
    "print(\"Test_accuracy:\", test_acc)"
   ]
  },
  {
   "cell_type": "markdown",
   "metadata": {},
   "source": [
    "## モデルで予想をしてみる"
   ]
  },
  {
   "cell_type": "code",
   "execution_count": 12,
   "metadata": {},
   "outputs": [
    {
     "name": "stdout",
     "output_type": "stream",
     "text": [
      "<class 'numpy.ndarray'>\n",
      "[36.6   3.35 14.46 -1.39 11.34 -5.29  6.69  7.26 -1.3  25.03 15.82 19.11\n",
      "  5.69 14.16 18.5   6.85  6.94  2.91  0.48  1.31 12.63 10.17 10.58  0.75\n",
      "  9.23 15.23  7.65  8.86  0.45 -2.2   3.6  13.98  5.74  0.12  6.49  8.73\n",
      "  8.61 -9.96 -0.22 -6.01]\n",
      "[36.6   3.35 14.46  1.39 11.34  5.29  6.69  7.26  1.3  25.03 15.82 19.11\n",
      "  5.69 14.16 18.5   6.85  6.94  2.91  0.48  1.31 12.63 10.17 10.58  0.75\n",
      "  9.23 15.23  7.65  8.86  0.45  2.2   3.6  13.98  5.74  0.12  6.49  8.73\n",
      "  8.61  9.96  0.22  6.01]\n",
      "error average is 7.3 %\n",
      "error absolute average is 8.6 %\n"
     ]
    }
   ],
   "source": [
    "pre_temp=model.predict(sound_data)\n",
    "\n",
    "print(type(pre_temp))\n",
    "\n",
    "error=np.array([])\n",
    "error_abs=np.array([])\n",
    "for i in range(len(temp_data)):\n",
    "    error=np.append(error, (pre_temp[i]-temp_data[i])/temp_data[i]*100)\n",
    "    error_abs=np.append(error_abs, abs((pre_temp[i]-temp_data[i])/temp_data[i]*100))\n",
    "\n",
    "np.set_printoptions(precision=2, suppress=True)\n",
    "print(error)\n",
    "print(error_abs)\n",
    "print(\"error average is {:.2g} %\".format(np.mean(error)))\n",
    "print(\"error absolute average is {:.2g} %\".format(np.mean(error_abs)))"
   ]
  },
  {
   "cell_type": "code",
   "execution_count": 13,
   "metadata": {},
   "outputs": [
    {
     "name": "stdout",
     "output_type": "stream",
     "text": [
      "[ -7.84  41.27  25.81   5.1    6.42 -18.39 -28.58  10.27 -15.87 -11.97]\n",
      "test error average is 0.62 %\n",
      "absolute test error average is 17 %\n",
      "[[30.41]\n",
      " [59.61]\n",
      " [62.65]\n",
      " [63.58]\n",
      " [71.3 ]\n",
      " [57.54]\n",
      " [54.21]\n",
      " [90.53]\n",
      " [72.18]\n",
      " [80.73]]\n",
      "[33.  42.2 49.8 60.5 67.  70.5 75.9 82.1 85.8 91.7]\n"
     ]
    }
   ],
   "source": [
    "pre_test_temp=model.predict(prediciton_sound_data)*100\n",
    "\n",
    "test_error=np.array([])\n",
    "test_error_abs=np.array([])\n",
    "for i in range(len(prediciton_temp_data)):\n",
    "    test_error=np.append(test_error, (pre_test_temp[i]-prediciton_temp_data[i])/prediciton_temp_data[i]*100)\n",
    "    test_error_abs=np.append(test_error_abs, abs((pre_test_temp[i]-prediciton_temp_data[i])/prediciton_temp_data[i]*100))\n",
    "    \n",
    "print(test_error)\n",
    "print(\"test error average is {:.2g} %\".format(np.mean(test_error)))\n",
    "print(\"absolute test error average is {:.2g} %\".format(np.mean(test_error_abs)))\n",
    "\n",
    "print(pre_test_temp)\n",
    "print(prediciton_temp_data)"
   ]
  },
  {
   "cell_type": "code",
   "execution_count": 14,
   "metadata": {},
   "outputs": [
    {
     "name": "stdout",
     "output_type": "stream",
     "text": [
      "[[29.23]\n",
      " [24.8 ]\n",
      " [30.33]\n",
      " [34.02]\n",
      " [34.29]\n",
      " [32.77]\n",
      " [35.21]\n",
      " [36.47]\n",
      " [41.45]\n",
      " [47.51]\n",
      " [49.92]\n",
      " [50.38]\n",
      " [50.94]\n",
      " [54.68]\n",
      " [59.37]\n",
      " [53.75]\n",
      " [54.86]\n",
      " [59.59]\n",
      " [55.26]\n",
      " [57.44]\n",
      " [66.68]\n",
      " [75.91]\n",
      " [70.33]\n",
      " [66.59]\n",
      " [73.29]\n",
      " [79.51]\n",
      " [77.3 ]\n",
      " [82.63]\n",
      " [75.34]\n",
      " [75.8 ]\n",
      " [88.68]\n",
      " [90.61]\n",
      " [87.87]\n",
      " [83.4 ]\n",
      " [91.69]\n",
      " [98.94]\n",
      " [96.23]\n",
      " [82.84]\n",
      " [93.99]\n",
      " [88.35]]\n"
     ]
    }
   ],
   "source": [
    "print(pre_temp*100)"
   ]
  },
  {
   "cell_type": "markdown",
   "metadata": {},
   "source": [
    "### 過学習はなさそう。その代わり、どうしても解析できない部分の温度帯がある。\n",
    "---\n",
    "ともあれ、これが現状で一番のモデルであるので保存してリアルタイムの温度測定に用いてみる。\n",
    "過学習の検証はそこで同時に行える。"
   ]
  },
  {
   "cell_type": "code",
   "execution_count": 15,
   "metadata": {},
   "outputs": [],
   "source": [
    "model.save(\"./model\")"
   ]
  },
  {
   "cell_type": "code",
   "execution_count": null,
   "metadata": {},
   "outputs": [],
   "source": []
  }
 ],
 "metadata": {
  "kernelspec": {
   "display_name": "Python 3",
   "language": "python",
   "name": "python3"
  },
  "language_info": {
   "codemirror_mode": {
    "name": "ipython",
    "version": 3
   },
   "file_extension": ".py",
   "mimetype": "text/x-python",
   "name": "python",
   "nbconvert_exporter": "python",
   "pygments_lexer": "ipython3",
   "version": "3.6.6"
  }
 },
 "nbformat": 4,
 "nbformat_minor": 2
}
