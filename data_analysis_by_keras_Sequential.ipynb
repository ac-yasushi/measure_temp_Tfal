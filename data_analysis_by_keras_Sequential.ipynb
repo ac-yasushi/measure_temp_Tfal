{
 "cells": [
  {
   "cell_type": "markdown",
   "metadata": {},
   "source": [
    "## 指定のディレクトリからデータを読みだして学習に掛ける"
   ]
  },
  {
   "cell_type": "code",
   "execution_count": 1,
   "metadata": {},
   "outputs": [],
   "source": [
    "import numpy as np\n",
    "import tensorflow as tf\n",
    "from tensorflow import keras\n",
    "import matplotlib.pyplot as plt\n",
    "import tensorflow.keras.backend as K"
   ]
  },
  {
   "cell_type": "code",
   "execution_count": 2,
   "metadata": {},
   "outputs": [],
   "source": [
    "with open(\"./t_fal_audio_data/np_data.dat\", mode=\"rb\") as f:\n",
    "    data=np.fromfile(f,dtype=float)"
   ]
  },
  {
   "cell_type": "markdown",
   "metadata": {},
   "source": [
    "### データは1配列で返されるので書き込み時の状態に変換する"
   ]
  },
  {
   "cell_type": "code",
   "execution_count": 3,
   "metadata": {},
   "outputs": [
    {
     "name": "stdout",
     "output_type": "stream",
     "text": [
      "<class 'numpy.ndarray'>\n",
      "40\n",
      "4097\n",
      "[0.214      0.11075341 0.15259981 ... 0.02155629 0.05022515 0.15259981]\n"
     ]
    }
   ],
   "source": [
    "size=2**12 #サンプリングのデータサイズを入力\n",
    "n=int(len(data)/(size+1))\n",
    "\n",
    "data=data.reshape((n, size+1))\n",
    "\n",
    "print(type(data))\n",
    "print(len(data))\n",
    "print(len(data[0]))\n",
    "print(data[0])"
   ]
  },
  {
   "cell_type": "code",
   "execution_count": 4,
   "metadata": {},
   "outputs": [
    {
     "name": "stdout",
     "output_type": "stream",
     "text": [
      "4096\n",
      "[0.214 0.24  0.265 0.345 0.308 0.346 0.33  0.34  0.42  0.38  0.431 0.423\n",
      " 0.482 0.479 0.501 0.503 0.513 0.579 0.55  0.567 0.592 0.689 0.636 0.661\n",
      " 0.671 0.69  0.718 0.759 0.75  0.775 0.856 0.795 0.831 0.833 0.861 0.91\n",
      " 0.886 0.92  0.942 0.94 ]\n",
      "<class 'numpy.float64'>\n"
     ]
    }
   ],
   "source": [
    "temp_data=np.array([])\n",
    "sound_data=np.array([])\n",
    "for i in range(len(data)):\n",
    "    temp_data=np.append(temp_data, data[i][0].real)\n",
    "    sound_data=np.append(sound_data, data[i][1:])\n",
    "\n",
    "sound_data=sound_data.reshape((n,size))\n",
    "\n",
    "\"\"\"\n",
    "temp_data:測定温度の配列(float)\n",
    "sound_data:音声スペクトルデータの2次元配列([[complex]...[]])\n",
    "\"\"\"\n",
    "\n",
    "    \n",
    "print(len(sound_data[0]))\n",
    "print(temp_data)\n",
    "print(type(temp_data[0]))"
   ]
  },
  {
   "cell_type": "markdown",
   "metadata": {},
   "source": [
    "<font size=5 color=\"red\">予測データの用意</font>"
   ]
  },
  {
   "cell_type": "code",
   "execution_count": 5,
   "metadata": {},
   "outputs": [
    {
     "name": "stdout",
     "output_type": "stream",
     "text": [
      "[33.  42.2 49.8 60.5 67.  70.5 75.9 82.1 85.8 91.7]\n",
      "[[0.07170207 0.08974837 0.0852675  ... 0.07528725 0.0852675  0.08974837]\n",
      " [0.081953   0.09420389 0.10618163 ... 0.0246869  0.10618163 0.09420389]\n",
      " [0.17753448 0.0796667  0.05342869 ... 0.11737094 0.05342869 0.0796667 ]\n",
      " ...\n",
      " [0.01008851 0.07105503 0.08758143 ... 0.03424141 0.08758143 0.07105503]\n",
      " [0.11010878 0.07297494 0.02128973 ... 0.03864819 0.02128973 0.07297494]\n",
      " [0.03787634 0.02785253 0.10334471 ... 0.37592443 0.10334471 0.02785253]]\n"
     ]
    }
   ],
   "source": [
    "with open(\"./t_fal_audio_data/np_prediction_data.dat\", mode=\"rb\") as f:\n",
    "    prediction_data=np.fromfile(f,dtype=float)\n",
    "\n",
    "prediction_data=prediction_data.reshape((10,4097))\n",
    "\n",
    "prediciton_temp_data=np.array([])\n",
    "prediciton_sound_data=np.array([])\n",
    "for i in range(len(prediction_data)):\n",
    "    prediciton_temp_data=np.append(prediciton_temp_data, prediction_data[i][0])\n",
    "    prediciton_sound_data=np.append(prediciton_sound_data, prediction_data[i][1:])\n",
    "    \n",
    "prediciton_sound_data=prediciton_sound_data.reshape((10,4096))\n",
    "\n",
    "print(prediciton_temp_data)\n",
    "print(prediciton_sound_data)"
   ]
  },
  {
   "cell_type": "markdown",
   "metadata": {},
   "source": [
    "# TFのkerasで学習装置を実装してみる"
   ]
  },
  {
   "cell_type": "code",
   "execution_count": 40,
   "metadata": {},
   "outputs": [],
   "source": [
    "model=keras.Sequential([\n",
    "    keras.layers.Dense(4096, activation=tf.nn.relu, input_dim=4096),\n",
    "    keras.layers.Dense(512, activation=tf.nn.relu),\n",
    "    keras.layers.Dense(128, activation=tf.nn.relu),\n",
    "    keras.layers.Dense(10, activation=tf.nn.relu),\n",
    "    keras.layers.Dense(1)\n",
    "])"
   ]
  },
  {
   "cell_type": "code",
   "execution_count": 41,
   "metadata": {},
   "outputs": [
    {
     "name": "stdout",
     "output_type": "stream",
     "text": [
      "_________________________________________________________________\n",
      "Layer (type)                 Output Shape              Param #   \n",
      "=================================================================\n",
      "dense_13 (Dense)             (None, 4096)              16781312  \n",
      "_________________________________________________________________\n",
      "dense_14 (Dense)             (None, 512)               2097664   \n",
      "_________________________________________________________________\n",
      "dense_15 (Dense)             (None, 128)               65664     \n",
      "_________________________________________________________________\n",
      "dense_16 (Dense)             (None, 10)                1290      \n",
      "_________________________________________________________________\n",
      "dense_17 (Dense)             (None, 1)                 11        \n",
      "=================================================================\n",
      "Total params: 18,945,941\n",
      "Trainable params: 18,945,941\n",
      "Non-trainable params: 0\n",
      "_________________________________________________________________\n",
      "None\n"
     ]
    }
   ],
   "source": [
    "#optimizer = tf.train.RMSPropOptimizer(0.5)\n",
    "optimizer = tf.train.AdamOptimizer()\n",
    "\n",
    "def abs_percent(y_ture, y_pred):\n",
    "    return 1-abs((y_pred-y_ture)/y_ture)\n",
    " \n",
    "model.compile(loss='mse',\n",
    "            optimizer=optimizer,\n",
    "            metrics=[abs_percent])\n",
    "\n",
    "print(model.summary())"
   ]
  },
  {
   "cell_type": "code",
   "execution_count": 42,
   "metadata": {},
   "outputs": [
    {
     "name": "stdout",
     "output_type": "stream",
     "text": [
      "Epoch 1/80\n",
      "40/40 [==============================] - 2s 49ms/step - loss: 0.5283 - abs_percent: -0.1456\n",
      "Epoch 2/80\n",
      "40/40 [==============================] - 0s 4ms/step - loss: 0.3689 - abs_percent: 0.0529\n",
      "Epoch 3/80\n",
      "40/40 [==============================] - 0s 3ms/step - loss: 0.1032 - abs_percent: 0.5690\n",
      "Epoch 4/80\n",
      "40/40 [==============================] - 0s 3ms/step - loss: 0.1680 - abs_percent: 0.3723\n",
      "Epoch 5/80\n",
      "40/40 [==============================] - 0s 3ms/step - loss: 0.1116 - abs_percent: 0.5080\n",
      "Epoch 6/80\n",
      "40/40 [==============================] - 0s 3ms/step - loss: 0.0571 - abs_percent: 0.7132\n",
      "Epoch 7/80\n",
      "40/40 [==============================] - 0s 3ms/step - loss: 0.0760 - abs_percent: 0.6499\n",
      "Epoch 8/80\n",
      "40/40 [==============================] - 0s 3ms/step - loss: 0.0448 - abs_percent: 0.7385\n",
      "Epoch 9/80\n",
      "40/40 [==============================] - 0s 3ms/step - loss: 0.0568 - abs_percent: 0.6632\n",
      "Epoch 10/80\n",
      "40/40 [==============================] - 0s 3ms/step - loss: 0.0425 - abs_percent: 0.7190\n",
      "Epoch 11/80\n",
      "40/40 [==============================] - 0s 3ms/step - loss: 0.0431 - abs_percent: 0.7516\n",
      "Epoch 12/80\n",
      "40/40 [==============================] - 0s 3ms/step - loss: 0.0420 - abs_percent: 0.7555\n",
      "Epoch 13/80\n",
      "40/40 [==============================] - 0s 3ms/step - loss: 0.0289 - abs_percent: 0.7890\n",
      "Epoch 14/80\n",
      "40/40 [==============================] - 0s 3ms/step - loss: 0.0417 - abs_percent: 0.7185\n",
      "Epoch 15/80\n",
      "40/40 [==============================] - 0s 3ms/step - loss: 0.0303 - abs_percent: 0.7684\n",
      "Epoch 16/80\n",
      "40/40 [==============================] - 0s 3ms/step - loss: 0.0276 - abs_percent: 0.8108\n",
      "Epoch 17/80\n",
      "40/40 [==============================] - 0s 3ms/step - loss: 0.0419 - abs_percent: 0.7455\n",
      "Epoch 18/80\n",
      "40/40 [==============================] - 0s 3ms/step - loss: 0.0239 - abs_percent: 0.8241\n",
      "Epoch 19/80\n",
      "40/40 [==============================] - 0s 4ms/step - loss: 0.0307 - abs_percent: 0.7555\n",
      "Epoch 20/80\n",
      "40/40 [==============================] - 0s 4ms/step - loss: 0.0214 - abs_percent: 0.8083\n",
      "Epoch 21/80\n",
      "40/40 [==============================] - 0s 4ms/step - loss: 0.0206 - abs_percent: 0.8474\n",
      "Epoch 22/80\n",
      "40/40 [==============================] - 0s 4ms/step - loss: 0.0223 - abs_percent: 0.8320\n",
      "Epoch 23/80\n",
      "40/40 [==============================] - 0s 4ms/step - loss: 0.0174 - abs_percent: 0.8406\n",
      "Epoch 24/80\n",
      "40/40 [==============================] - 0s 4ms/step - loss: 0.0156 - abs_percent: 0.8322\n",
      "Epoch 25/80\n",
      "40/40 [==============================] - 0s 4ms/step - loss: 0.0152 - abs_percent: 0.8633\n",
      "Epoch 26/80\n",
      "40/40 [==============================] - 0s 4ms/step - loss: 0.0168 - abs_percent: 0.8482\n",
      "Epoch 27/80\n",
      "40/40 [==============================] - 0s 4ms/step - loss: 0.0131 - abs_percent: 0.8627\n",
      "Epoch 28/80\n",
      "40/40 [==============================] - 0s 4ms/step - loss: 0.0126 - abs_percent: 0.8544\n",
      "Epoch 29/80\n",
      "40/40 [==============================] - 0s 4ms/step - loss: 0.0104 - abs_percent: 0.8802\n",
      "Epoch 30/80\n",
      "40/40 [==============================] - 0s 4ms/step - loss: 0.0105 - abs_percent: 0.8828\n",
      "Epoch 31/80\n",
      "40/40 [==============================] - 0s 4ms/step - loss: 0.0089 - abs_percent: 0.8894\n",
      "Epoch 32/80\n",
      "40/40 [==============================] - 0s 4ms/step - loss: 0.0097 - abs_percent: 0.8696\n",
      "Epoch 33/80\n",
      "40/40 [==============================] - 0s 4ms/step - loss: 0.0079 - abs_percent: 0.8869\n",
      "Epoch 34/80\n",
      "40/40 [==============================] - 0s 3ms/step - loss: 0.0090 - abs_percent: 0.8809\n",
      "Epoch 35/80\n",
      "40/40 [==============================] - 0s 3ms/step - loss: 0.0070 - abs_percent: 0.8919\n",
      "Epoch 36/80\n",
      "40/40 [==============================] - 0s 3ms/step - loss: 0.0072 - abs_percent: 0.8777\n",
      "Epoch 37/80\n",
      "40/40 [==============================] - 0s 4ms/step - loss: 0.0055 - abs_percent: 0.8998\n",
      "Epoch 38/80\n",
      "40/40 [==============================] - 0s 4ms/step - loss: 0.0064 - abs_percent: 0.8876\n",
      "Epoch 39/80\n",
      "40/40 [==============================] - 0s 4ms/step - loss: 0.0046 - abs_percent: 0.9047\n",
      "Epoch 40/80\n",
      "40/40 [==============================] - 0s 3ms/step - loss: 0.0052 - abs_percent: 0.8905\n",
      "Epoch 41/80\n",
      "40/40 [==============================] - 0s 3ms/step - loss: 0.0039 - abs_percent: 0.9069\n",
      "Epoch 42/80\n",
      "40/40 [==============================] - 0s 3ms/step - loss: 0.0042 - abs_percent: 0.9039\n",
      "Epoch 43/80\n",
      "40/40 [==============================] - 0s 4ms/step - loss: 0.0039 - abs_percent: 0.9092\n",
      "Epoch 44/80\n",
      "40/40 [==============================] - 0s 4ms/step - loss: 0.0043 - abs_percent: 0.8953\n",
      "Epoch 45/80\n",
      "40/40 [==============================] - 0s 3ms/step - loss: 0.0046 - abs_percent: 0.8910\n",
      "Epoch 46/80\n",
      "40/40 [==============================] - 0s 3ms/step - loss: 0.0036 - abs_percent: 0.9124\n",
      "Epoch 47/80\n",
      "40/40 [==============================] - 0s 3ms/step - loss: 0.0029 - abs_percent: 0.9166\n",
      "Epoch 48/80\n",
      "40/40 [==============================] - 0s 3ms/step - loss: 0.0027 - abs_percent: 0.9130\n",
      "Epoch 49/80\n",
      "40/40 [==============================] - 0s 3ms/step - loss: 0.0016 - abs_percent: 0.9387\n",
      "Epoch 50/80\n",
      "40/40 [==============================] - 0s 3ms/step - loss: 0.0034 - abs_percent: 0.9131\n",
      "Epoch 51/80\n",
      "40/40 [==============================] - 0s 3ms/step - loss: 0.0013 - abs_percent: 0.9418\n",
      "Epoch 52/80\n",
      "40/40 [==============================] - 0s 3ms/step - loss: 0.0023 - abs_percent: 0.9216\n",
      "Epoch 53/80\n",
      "40/40 [==============================] - 0s 3ms/step - loss: 0.0011 - abs_percent: 0.9466\n",
      "Epoch 54/80\n",
      "40/40 [==============================] - 0s 3ms/step - loss: 0.0018 - abs_percent: 0.9340\n",
      "Epoch 55/80\n",
      "40/40 [==============================] - 0s 3ms/step - loss: 0.0018 - abs_percent: 0.9344\n",
      "Epoch 56/80\n",
      "40/40 [==============================] - 0s 3ms/step - loss: 9.7413e-04 - abs_percent: 0.9489\n",
      "Epoch 57/80\n",
      "40/40 [==============================] - 0s 3ms/step - loss: 0.0019 - abs_percent: 0.9340\n",
      "Epoch 58/80\n",
      "40/40 [==============================] - 0s 3ms/step - loss: 0.0011 - abs_percent: 0.9462\n",
      "Epoch 59/80\n",
      "40/40 [==============================] - 0s 3ms/step - loss: 0.0011 - abs_percent: 0.9464\n",
      "Epoch 60/80\n",
      "40/40 [==============================] - 0s 3ms/step - loss: 0.0014 - abs_percent: 0.9433\n",
      "Epoch 61/80\n",
      "40/40 [==============================] - 0s 3ms/step - loss: 7.4829e-04 - abs_percent: 0.9579\n",
      "Epoch 62/80\n",
      "40/40 [==============================] - 0s 3ms/step - loss: 0.0011 - abs_percent: 0.9465\n",
      "Epoch 63/80\n",
      "40/40 [==============================] - 0s 3ms/step - loss: 4.1995e-04 - abs_percent: 0.9677\n",
      "Epoch 64/80\n",
      "40/40 [==============================] - 0s 3ms/step - loss: 9.8979e-04 - abs_percent: 0.9496\n",
      "Epoch 65/80\n",
      "40/40 [==============================] - 0s 3ms/step - loss: 5.6985e-04 - abs_percent: 0.9635\n",
      "Epoch 66/80\n",
      "40/40 [==============================] - 0s 3ms/step - loss: 5.9062e-04 - abs_percent: 0.9616\n",
      "Epoch 67/80\n",
      "40/40 [==============================] - 0s 3ms/step - loss: 8.8297e-04 - abs_percent: 0.9522\n",
      "Epoch 68/80\n",
      "40/40 [==============================] - 0s 4ms/step - loss: 2.7167e-04 - abs_percent: 0.9744\n",
      "Epoch 69/80\n",
      "40/40 [==============================] - 0s 3ms/step - loss: 9.7683e-04 - abs_percent: 0.9530\n",
      "Epoch 70/80\n",
      "40/40 [==============================] - 0s 3ms/step - loss: 3.5504e-04 - abs_percent: 0.9702\n",
      "Epoch 71/80\n",
      "40/40 [==============================] - 0s 3ms/step - loss: 4.3077e-04 - abs_percent: 0.9682\n",
      "Epoch 72/80\n",
      "40/40 [==============================] - 0s 3ms/step - loss: 5.1849e-04 - abs_percent: 0.9634\n",
      "Epoch 73/80\n",
      "40/40 [==============================] - 0s 3ms/step - loss: 1.9523e-04 - abs_percent: 0.9782\n",
      "Epoch 74/80\n",
      "40/40 [==============================] - 0s 3ms/step - loss: 4.9498e-04 - abs_percent: 0.9658\n",
      "Epoch 75/80\n",
      "40/40 [==============================] - 0s 3ms/step - loss: 2.0852e-04 - abs_percent: 0.9760\n",
      "Epoch 76/80\n",
      "40/40 [==============================] - 0s 3ms/step - loss: 2.7719e-04 - abs_percent: 0.9732\n",
      "Epoch 77/80\n",
      "40/40 [==============================] - 0s 3ms/step - loss: 1.9515e-04 - abs_percent: 0.9789\n",
      "Epoch 78/80\n",
      "40/40 [==============================] - 0s 3ms/step - loss: 1.2271e-04 - abs_percent: 0.9826\n",
      "Epoch 79/80\n",
      "40/40 [==============================] - 0s 3ms/step - loss: 2.1940e-04 - abs_percent: 0.9753\n",
      "Epoch 80/80\n"
     ]
    },
    {
     "name": "stdout",
     "output_type": "stream",
     "text": [
      "32/40 [=======================>......] - ETA: 0s - loss: 1.0194e-04 - abs_percent: 0.9837\b\b\b\b\b\b\b\b\b\b\b\b\b\b\b\b\b\b\b\b\b\b\b\b\b\b\b\b\b\b\b\b\b\b\b\b\b\b\b\b\b\b\b\b\b\b\b\b\b\b\b\b\b\b\b\b\b\b\b\b\b\b\b\b\b\b\b\b\b\b\b\b\b\b\b\b\b\b\b\b\b\b\b\b\b\b\b\b\b\r",
      "40/40 [==============================] - 0s 3ms/step - loss: 9.4420e-05 - abs_percent: 0.9837\n"
     ]
    },
    {
     "data": {
      "image/png": "[encoded data removed]",
      "text/plain": [
       "<Figure size 1440x720 with 2 Axes>"
      ]
     },
     "metadata": {
      "needs_background": "light"
     },
     "output_type": "display_data"
    }
   ],
   "source": [
    "epochs=80\n",
    "\n",
    "fit=model.fit(sound_data, temp_data, epochs=epochs, callbacks=None, validation_split=0)\n",
    "\n",
    "\n",
    "plt.figure(figsize=(20,10))\n",
    "\n",
    "plt.subplot(1, 2, 1)\n",
    "plt.xlim(0,epochs)\n",
    "plt.ylim(0, 0.5)\n",
    "plt.plot(fit.history['loss'], label=\"loss of training\")\n",
    "try:\n",
    "    plt.plot(fit.history['val_loss'], label=\"loss of validation\")\n",
    "except:\n",
    "    pass\n",
    "plt.title(\"model loss\")\n",
    "plt.xlabel(\"epoch\")\n",
    "plt.ylabel(\"loss\")\n",
    "plt.legend()\n",
    "\n",
    "plt.subplot(1, 2, 2)\n",
    "plt.xlim(0,epochs)\n",
    "plt.ylim(0, 1)\n",
    "plt.plot(fit.history['abs_percent'], label=\"acc of training\")\n",
    "try:\n",
    "    plt.plot(fit.history['val_abs_percent'], label=\"acc of validation\")\n",
    "except:\n",
    "    pass\n",
    "plt.title(\"model accuracy\")\n",
    "plt.xlabel(\"epoch\")\n",
    "plt.ylabel(\"accuracy\")\n",
    "plt.legend()\n",
    "\n",
    "plt.show()"
   ]
  },
  {
   "cell_type": "code",
   "execution_count": 43,
   "metadata": {},
   "outputs": [
    {
     "name": "stdout",
     "output_type": "stream",
     "text": [
      "40/40 [==============================] - 0s 8ms/step\n",
      "Test_loss: 0.00024885294842533765\n",
      "Test_accuracy: 0.9749075412750244\n"
     ]
    }
   ],
   "source": [
    "test_loss, test_acc = model.evaluate(sound_data, temp_data)\n",
    "\n",
    "print(\"Test_loss:\", test_loss)\n",
    "print(\"Test_accuracy:\", test_acc)"
   ]
  },
  {
   "cell_type": "code",
   "execution_count": 44,
   "metadata": {},
   "outputs": [
    {
     "name": "stdout",
     "output_type": "stream",
     "text": [
      "10/10 [==============================] - 0s 3ms/step\n",
      "Test_loss: 4591.51953125\n",
      "Test_accuracy: 0.009376013651490211\n"
     ]
    }
   ],
   "source": [
    "test_loss, test_acc = model.evaluate(prediciton_sound_data, prediciton_temp_data)\n",
    "\n",
    "print(\"Test_loss:\", test_loss)\n",
    "print(\"Test_accuracy:\", test_acc)"
   ]
  },
  {
   "cell_type": "markdown",
   "metadata": {},
   "source": [
    "## モデルで予想をしてみる"
   ]
  },
  {
   "cell_type": "code",
   "execution_count": 45,
   "metadata": {},
   "outputs": [
    {
     "name": "stdout",
     "output_type": "stream",
     "text": [
      "<class 'numpy.ndarray'>\n",
      "[ 9.87 -1.66 -6.43 -0.24  0.5  -2.99 -1.36 -0.14 -3.7  -0.35 -4.99 -1.96\n",
      " -6.68 -2.83 -2.25 -3.79 -3.94 -2.55 -5.11 -5.53 -1.19 -2.39 -2.24 -1.24\n",
      " -0.99 -2.88 -1.85 -2.05 -2.35 -1.05 -3.12 -0.9  -2.12 -2.54 -1.17 -1.09\n",
      " -0.99 -2.5   0.35 -0.49]\n",
      "[9.87 1.66 6.43 0.24 0.5  2.99 1.36 0.14 3.7  0.35 4.99 1.96 6.68 2.83\n",
      " 2.25 3.79 3.94 2.55 5.11 5.53 1.19 2.39 2.24 1.24 0.99 2.88 1.85 2.05\n",
      " 2.35 1.05 3.12 0.9  2.12 2.54 1.17 1.09 0.99 2.5  0.35 0.49]\n",
      "error average is -2 %\n",
      "error absolute average is 2.5 %\n"
     ]
    }
   ],
   "source": [
    "pre_temp=model.predict(sound_data)\n",
    "\n",
    "print(type(pre_temp))\n",
    "\n",
    "error=np.array([])\n",
    "error_abs=np.array([])\n",
    "for i in range(len(temp_data)):\n",
    "    error=np.append(error, (pre_temp[i]-temp_data[i])/temp_data[i]*100)\n",
    "    error_abs=np.append(error_abs, abs((pre_temp[i]-temp_data[i])/temp_data[i]*100))\n",
    "\n",
    "np.set_printoptions(precision=2, suppress=True)\n",
    "print(error)\n",
    "print(error_abs)\n",
    "print(\"error average is {:.2g} %\".format(np.mean(error)))\n",
    "print(\"error absolute average is {:.2g} %\".format(np.mean(error_abs)))"
   ]
  },
  {
   "cell_type": "code",
   "execution_count": 46,
   "metadata": {},
   "outputs": [
    {
     "name": "stdout",
     "output_type": "stream",
     "text": [
      "[ -9.14  33.58   8.33  -1.6    1.96 -25.87 -33.99   1.63 -26.89 -10.4 ]\n",
      "test error average is -6.2 %\n",
      "absolute test error average is 15 %\n",
      "[[29.98]\n",
      " [56.37]\n",
      " [53.95]\n",
      " [59.53]\n",
      " [68.31]\n",
      " [52.26]\n",
      " [50.1 ]\n",
      " [83.44]\n",
      " [62.73]\n",
      " [82.16]]\n",
      "[33.  42.2 49.8 60.5 67.  70.5 75.9 82.1 85.8 91.7]\n"
     ]
    }
   ],
   "source": [
    "pre_test_temp=model.predict(prediciton_sound_data)*100\n",
    "\n",
    "test_error=np.array([])\n",
    "test_error_abs=np.array([])\n",
    "for i in range(len(prediciton_temp_data)):\n",
    "    test_error=np.append(test_error, (pre_test_temp[i]-prediciton_temp_data[i])/prediciton_temp_data[i]*100)\n",
    "    test_error_abs=np.append(test_error_abs, abs((pre_test_temp[i]-prediciton_temp_data[i])/prediciton_temp_data[i]*100))\n",
    "    \n",
    "print(test_error)\n",
    "print(\"test error average is {:.2g} %\".format(np.mean(test_error)))\n",
    "print(\"absolute test error average is {:.2g} %\".format(np.mean(test_error_abs)))\n",
    "\n",
    "print(pre_test_temp)\n",
    "print(prediciton_temp_data)"
   ]
  },
  {
   "cell_type": "code",
   "execution_count": 13,
   "metadata": {},
   "outputs": [
    {
     "name": "stdout",
     "output_type": "stream",
     "text": [
      "[[24.4 ]\n",
      " [25.54]\n",
      " [22.56]\n",
      " [35.81]\n",
      " [32.06]\n",
      " [35.82]\n",
      " [35.28]\n",
      " [34.97]\n",
      " [44.33]\n",
      " [42.8 ]\n",
      " [48.04]\n",
      " [45.95]\n",
      " [49.42]\n",
      " [50.44]\n",
      " [55.68]\n",
      " [51.18]\n",
      " [51.3 ]\n",
      " [58.73]\n",
      " [55.12]\n",
      " [53.56]\n",
      " [64.06]\n",
      " [72.77]\n",
      " [67.7 ]\n",
      " [69.15]\n",
      " [72.85]\n",
      " [73.38]\n",
      " [76.41]\n",
      " [77.6 ]\n",
      " [73.44]\n",
      " [74.14]\n",
      " [87.35]\n",
      " [88.69]\n",
      " [88.91]\n",
      " [83.25]\n",
      " [91.12]\n",
      " [95.74]\n",
      " [97.86]\n",
      " [49.07]\n",
      " [53.23]\n",
      " [41.36]]\n"
     ]
    }
   ],
   "source": [
    "print(pre_temp*100)"
   ]
  },
  {
   "cell_type": "markdown",
   "metadata": {},
   "source": [
    "### 過学習はなさそう。その代わり、どうしても解析できない部分の温度帯がある。\n",
    "---\n",
    "ともあれ、これが現状で一番のモデルであるので保存してリアルタイムの温度測定に用いてみる。\n",
    "過学習の検証はそこで同時に行える。"
   ]
  },
  {
   "cell_type": "code",
   "execution_count": null,
   "metadata": {},
   "outputs": [],
   "source": []
  }
 ],
 "metadata": {
  "kernelspec": {
   "display_name": "Python 3",
   "language": "python",
   "name": "python3"
  },
  "language_info": {
   "codemirror_mode": {
    "name": "ipython",
    "version": 3
   },
   "file_extension": ".py",
   "mimetype": "text/x-python",
   "name": "python",
   "nbconvert_exporter": "python",
   "pygments_lexer": "ipython3",
   "version": "3.6.6"
  }
 },
 "nbformat": 4,
 "nbformat_minor": 2
}
