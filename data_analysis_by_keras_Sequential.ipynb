{
 "cells": [
  {
   "cell_type": "markdown",
   "metadata": {},
   "source": [
    "## 指定のディレクトリからデータを読みだして学習に掛ける"
   ]
  },
  {
   "cell_type": "code",
   "execution_count": 1,
   "metadata": {},
   "outputs": [],
   "source": [
    "import numpy as np\n",
    "import tensorflow as tf\n",
    "from tensorflow import keras\n",
    "import matplotlib.pyplot as plt\n",
    "import tensorflow.keras.backend as K"
   ]
  },
  {
   "cell_type": "code",
   "execution_count": 2,
   "metadata": {},
   "outputs": [],
   "source": [
    "with open(\"./t_fal_audio_data/np_data.dat\", mode=\"rb\") as f:\n",
    "    data=np.fromfile(f,dtype=float)"
   ]
  },
  {
   "cell_type": "markdown",
   "metadata": {},
   "source": [
    "### データは1配列で返されるので書き込み時の状態に変換する"
   ]
  },
  {
   "cell_type": "code",
   "execution_count": 3,
   "metadata": {},
   "outputs": [
    {
     "name": "stdout",
     "output_type": "stream",
     "text": [
      "<class 'numpy.ndarray'>\n",
      "40\n",
      "4097\n",
      "[0.214      0.11075341 0.15259981 ... 0.02155629 0.05022515 0.15259981]\n"
     ]
    }
   ],
   "source": [
    "size=2**12 #サンプリングのデータサイズを入力\n",
    "n=int(len(data)/(size+1))\n",
    "\n",
    "data=data.reshape((n, size+1))\n",
    "\n",
    "print(type(data))\n",
    "print(len(data))\n",
    "print(len(data[0]))\n",
    "print(data[0])"
   ]
  },
  {
   "cell_type": "code",
   "execution_count": 4,
   "metadata": {},
   "outputs": [
    {
     "name": "stdout",
     "output_type": "stream",
     "text": [
      "4096\n",
      "[0.214 0.24  0.265 0.345 0.308 0.346 0.33  0.34  0.42  0.38  0.431 0.423\n",
      " 0.482 0.479 0.501 0.503 0.513 0.579 0.55  0.567 0.592 0.689 0.636 0.661\n",
      " 0.671 0.69  0.718 0.759 0.75  0.775 0.856 0.795 0.831 0.833 0.861 0.91\n",
      " 0.886 0.92  0.942 0.94 ]\n",
      "<class 'numpy.float64'>\n"
     ]
    }
   ],
   "source": [
    "temp_data=np.array([])\n",
    "sound_data=np.array([])\n",
    "for i in range(len(data)):\n",
    "    temp_data=np.append(temp_data, data[i][0].real)\n",
    "    sound_data=np.append(sound_data, data[i][1:])\n",
    "\n",
    "sound_data=sound_data.reshape((n,size))\n",
    "\n",
    "\"\"\"\n",
    "temp_data:測定温度の配列(float)\n",
    "sound_data:音声スペクトルデータの2次元配列([[complex]...[]])\n",
    "\"\"\"\n",
    "\n",
    "    \n",
    "print(len(sound_data[0]))\n",
    "print(temp_data)\n",
    "print(type(temp_data[0]))"
   ]
  },
  {
   "cell_type": "markdown",
   "metadata": {},
   "source": [
    "<font size=5 color=\"red\">予測データの用意</font>"
   ]
  },
  {
   "cell_type": "code",
   "execution_count": 5,
   "metadata": {},
   "outputs": [
    {
     "name": "stdout",
     "output_type": "stream",
     "text": [
      "[33.  42.2 49.8 60.5 67.  70.5 75.9 82.1 85.8 91.7]\n",
      "[[0.07170207 0.08974837 0.0852675  ... 0.07528725 0.0852675  0.08974837]\n",
      " [0.081953   0.09420389 0.10618163 ... 0.0246869  0.10618163 0.09420389]\n",
      " [0.17753448 0.0796667  0.05342869 ... 0.11737094 0.05342869 0.0796667 ]\n",
      " ...\n",
      " [0.01008851 0.07105503 0.08758143 ... 0.03424141 0.08758143 0.07105503]\n",
      " [0.11010878 0.07297494 0.02128973 ... 0.03864819 0.02128973 0.07297494]\n",
      " [0.03787634 0.02785253 0.10334471 ... 0.37592443 0.10334471 0.02785253]]\n"
     ]
    }
   ],
   "source": [
    "with open(\"./t_fal_audio_data/np_prediction_data.dat\", mode=\"rb\") as f:\n",
    "    prediction_data=np.fromfile(f,dtype=float)\n",
    "\n",
    "prediction_data=prediction_data.reshape((10,4097))\n",
    "\n",
    "prediciton_temp_data=np.array([])\n",
    "prediciton_sound_data=np.array([])\n",
    "for i in range(len(prediction_data)):\n",
    "    prediciton_temp_data=np.append(prediciton_temp_data, prediction_data[i][0])\n",
    "    prediciton_sound_data=np.append(prediciton_sound_data, prediction_data[i][1:])\n",
    "    \n",
    "prediciton_sound_data=prediciton_sound_data.reshape((10,4096))\n",
    "\n",
    "print(prediciton_temp_data)\n",
    "print(prediciton_sound_data)"
   ]
  },
  {
   "cell_type": "markdown",
   "metadata": {},
   "source": [
    "# TFのkerasで学習装置を実装してみる"
   ]
  },
  {
   "cell_type": "code",
   "execution_count": 88,
   "metadata": {},
   "outputs": [],
   "source": [
    "model=keras.Sequential([\n",
    "    keras.layers.Dense(4096, activation=tf.nn.relu, input_dim=4096),\n",
    "    keras.layers.Dense(512, activation=tf.nn.relu),\n",
    "    keras.layers.Dropout(0.1),\n",
    "    keras.layers.Dense(128, activation=tf.nn.relu),\n",
    "    keras.layers.Dense(10, activation=tf.nn.relu),\n",
    "    keras.layers.Dense(1)\n",
    "])"
   ]
  },
  {
   "cell_type": "code",
   "execution_count": 89,
   "metadata": {},
   "outputs": [
    {
     "name": "stdout",
     "output_type": "stream",
     "text": [
      "_________________________________________________________________\n",
      "Layer (type)                 Output Shape              Param #   \n",
      "=================================================================\n",
      "dense_50 (Dense)             (None, 4096)              16781312  \n",
      "_________________________________________________________________\n",
      "dense_51 (Dense)             (None, 512)               2097664   \n",
      "_________________________________________________________________\n",
      "dropout_11 (Dropout)         (None, 512)               0         \n",
      "_________________________________________________________________\n",
      "dense_52 (Dense)             (None, 128)               65664     \n",
      "_________________________________________________________________\n",
      "dense_53 (Dense)             (None, 10)                1290      \n",
      "_________________________________________________________________\n",
      "dense_54 (Dense)             (None, 1)                 11        \n",
      "=================================================================\n",
      "Total params: 18,945,941\n",
      "Trainable params: 18,945,941\n",
      "Non-trainable params: 0\n",
      "_________________________________________________________________\n",
      "None\n"
     ]
    }
   ],
   "source": [
    "#optimizer = tf.train.RMSPropOptimizer(0.5)\n",
    "optimizer = tf.train.AdamOptimizer()\n",
    "\n",
    "def abs_percent(y_ture, y_pred):\n",
    "    return 1-abs((y_pred-y_ture)/y_ture)\n",
    " \n",
    "model.compile(loss='mse',\n",
    "            optimizer=optimizer,\n",
    "            metrics=[abs_percent])\n",
    "\n",
    "print(model.summary())"
   ]
  },
  {
   "cell_type": "code",
   "execution_count": 90,
   "metadata": {},
   "outputs": [
    {
     "name": "stdout",
     "output_type": "stream",
     "text": [
      "Epoch 1/20\n",
      "40/40 [==============================] - 2s 38ms/step - loss: 0.6338 - abs_percent: -0.1410\n",
      "Epoch 2/20\n",
      "40/40 [==============================] - 0s 5ms/step - loss: 1.4226 - abs_percent: -0.8244\n",
      "Epoch 3/20\n",
      "40/40 [==============================] - 0s 5ms/step - loss: 0.1132 - abs_percent: 0.5377\n",
      "Epoch 4/20\n",
      "40/40 [==============================] - 0s 5ms/step - loss: 0.1651 - abs_percent: 0.4032\n",
      "Epoch 5/20\n",
      "40/40 [==============================] - 0s 5ms/step - loss: 0.0869 - abs_percent: 0.6396\n",
      "Epoch 6/20\n",
      "40/40 [==============================] - 0s 5ms/step - loss: 0.0874 - abs_percent: 0.6210\n",
      "Epoch 7/20\n",
      "40/40 [==============================] - 0s 5ms/step - loss: 0.0545 - abs_percent: 0.6858\n",
      "Epoch 8/20\n",
      "40/40 [==============================] - 0s 5ms/step - loss: 0.0902 - abs_percent: 0.5737\n",
      "Epoch 9/20\n",
      "40/40 [==============================] - 0s 5ms/step - loss: 0.0563 - abs_percent: 0.7082\n",
      "Epoch 10/20\n",
      "40/40 [==============================] - 0s 5ms/step - loss: 0.0782 - abs_percent: 0.6319\n",
      "Epoch 11/20\n",
      "40/40 [==============================] - 0s 5ms/step - loss: 0.0320 - abs_percent: 0.7891\n",
      "Epoch 12/20\n",
      "40/40 [==============================] - 0s 5ms/step - loss: 0.0659 - abs_percent: 0.6356\n",
      "Epoch 13/20\n",
      "40/40 [==============================] - 0s 5ms/step - loss: 0.0456 - abs_percent: 0.6965\n",
      "Epoch 14/20\n",
      "40/40 [==============================] - 0s 5ms/step - loss: 0.0382 - abs_percent: 0.7484\n",
      "Epoch 15/20\n",
      "40/40 [==============================] - 0s 5ms/step - loss: 0.0498 - abs_percent: 0.7357\n",
      "Epoch 16/20\n",
      "40/40 [==============================] - 0s 5ms/step - loss: 0.0243 - abs_percent: 0.8161\n",
      "Epoch 17/20\n",
      "40/40 [==============================] - 0s 5ms/step - loss: 0.0356 - abs_percent: 0.7378\n",
      "Epoch 18/20\n",
      "40/40 [==============================] - 0s 5ms/step - loss: 0.0191 - abs_percent: 0.8332\n",
      "Epoch 19/20\n",
      "40/40 [==============================] - 0s 5ms/step - loss: 0.0236 - abs_percent: 0.8251\n",
      "Epoch 20/20\n",
      "40/40 [==============================] - 0s 5ms/step - loss: 0.0180 - abs_percent: 0.8333\n"
     ]
    },
    {
     "ename": "KeyError",
     "evalue": "'val_loss'",
     "output_type": "error",
     "traceback": [
      "\u001b[1;31m---------------------------------------------------------------------------\u001b[0m",
      "\u001b[1;31mKeyError\u001b[0m                                  Traceback (most recent call last)",
      "\u001b[1;32m<ipython-input-90-7db7632f611e>\u001b[0m in \u001b[0;36m<module>\u001b[1;34m\u001b[0m\n\u001b[0;32m     10\u001b[0m \u001b[0mplt\u001b[0m\u001b[1;33m.\u001b[0m\u001b[0mylim\u001b[0m\u001b[1;33m(\u001b[0m\u001b[1;36m0\u001b[0m\u001b[1;33m,\u001b[0m \u001b[1;36m0.5\u001b[0m\u001b[1;33m)\u001b[0m\u001b[1;33m\u001b[0m\u001b[1;33m\u001b[0m\u001b[0m\n\u001b[0;32m     11\u001b[0m \u001b[0mplt\u001b[0m\u001b[1;33m.\u001b[0m\u001b[0mplot\u001b[0m\u001b[1;33m(\u001b[0m\u001b[0mfit\u001b[0m\u001b[1;33m.\u001b[0m\u001b[0mhistory\u001b[0m\u001b[1;33m[\u001b[0m\u001b[1;34m'loss'\u001b[0m\u001b[1;33m]\u001b[0m\u001b[1;33m,\u001b[0m \u001b[0mlabel\u001b[0m\u001b[1;33m=\u001b[0m\u001b[1;34m\"loss of training\"\u001b[0m\u001b[1;33m)\u001b[0m\u001b[1;33m\u001b[0m\u001b[1;33m\u001b[0m\u001b[0m\n\u001b[1;32m---> 12\u001b[1;33m \u001b[0mplt\u001b[0m\u001b[1;33m.\u001b[0m\u001b[0mplot\u001b[0m\u001b[1;33m(\u001b[0m\u001b[0mfit\u001b[0m\u001b[1;33m.\u001b[0m\u001b[0mhistory\u001b[0m\u001b[1;33m[\u001b[0m\u001b[1;34m'val_loss'\u001b[0m\u001b[1;33m]\u001b[0m\u001b[1;33m,\u001b[0m \u001b[0mlabel\u001b[0m\u001b[1;33m=\u001b[0m\u001b[1;34m\"loss of validation\"\u001b[0m\u001b[1;33m)\u001b[0m\u001b[1;33m\u001b[0m\u001b[1;33m\u001b[0m\u001b[0m\n\u001b[0m\u001b[0;32m     13\u001b[0m \u001b[0mplt\u001b[0m\u001b[1;33m.\u001b[0m\u001b[0mtitle\u001b[0m\u001b[1;33m(\u001b[0m\u001b[1;34m\"model loss\"\u001b[0m\u001b[1;33m)\u001b[0m\u001b[1;33m\u001b[0m\u001b[1;33m\u001b[0m\u001b[0m\n\u001b[0;32m     14\u001b[0m \u001b[0mplt\u001b[0m\u001b[1;33m.\u001b[0m\u001b[0mxlabel\u001b[0m\u001b[1;33m(\u001b[0m\u001b[1;34m\"epoch\"\u001b[0m\u001b[1;33m)\u001b[0m\u001b[1;33m\u001b[0m\u001b[1;33m\u001b[0m\u001b[0m\n",
      "\u001b[1;31mKeyError\u001b[0m: 'val_loss'"
     ]
    },
    {
     "data": {
      "image/png": "[encoded data removed]",
      "text/plain": [
       "<Figure size 1440x720 with 1 Axes>"
      ]
     },
     "metadata": {
      "needs_background": "light"
     },
     "output_type": "display_data"
    }
   ],
   "source": [
    "epochs=20\n",
    "\n",
    "fit=model.fit(sound_data, temp_data, epochs=epochs, callbacks=None, validation_split=0)\n",
    "\n",
    "\n",
    "plt.figure(figsize=(20,10))\n",
    "\n",
    "plt.subplot(1, 2, 1)\n",
    "plt.xlim(0,epochs)\n",
    "plt.ylim(0, 0.5)\n",
    "plt.plot(fit.history['loss'], label=\"loss of training\")\n",
    "plt.plot(fit.history['val_loss'], label=\"loss of validation\")\n",
    "plt.title(\"model loss\")\n",
    "plt.xlabel(\"epoch\")\n",
    "plt.ylabel(\"loss\")\n",
    "plt.legend()\n",
    "\n",
    "plt.subplot(1, 2, 2)\n",
    "plt.xlim(0,epochs)\n",
    "plt.ylim(0, 1)\n",
    "plt.plot(fit.history['abs_percent'], label=\"acc of training\")\n",
    "plt.plot(fit.history['val_abs_percent'], label=\"acc of validation\")\n",
    "plt.title(\"model accuracy\")\n",
    "plt.xlabel(\"epoch\")\n",
    "plt.ylabel(\"accuracy\")\n",
    "plt.legend()\n",
    "\n",
    "plt.show()"
   ]
  },
  {
   "cell_type": "code",
   "execution_count": 91,
   "metadata": {},
   "outputs": [
    {
     "name": "stdout",
     "output_type": "stream",
     "text": [
      "40/40 [==============================] - 0s 6ms/step\n",
      "Test_loss: 0.01245165392756462\n",
      "Test_accuracy: 0.8568404674530029\n"
     ]
    }
   ],
   "source": [
    "test_loss, test_acc = model.evaluate(sound_data, temp_data)\n",
    "\n",
    "print(\"Test_loss:\", test_loss)\n",
    "print(\"Test_accuracy:\", test_acc)"
   ]
  },
  {
   "cell_type": "code",
   "execution_count": 92,
   "metadata": {},
   "outputs": [
    {
     "name": "stdout",
     "output_type": "stream",
     "text": [
      "10/10 [==============================] - 0s 2ms/step\n",
      "Test_loss: 4593.4169921875\n",
      "Test_accuracy: 0.009174984879791737\n"
     ]
    }
   ],
   "source": [
    "test_loss, test_acc = model.evaluate(prediciton_sound_data, prediciton_temp_data)\n",
    "\n",
    "print(\"Test_loss:\", test_loss)\n",
    "print(\"Test_accuracy:\", test_acc)"
   ]
  },
  {
   "cell_type": "markdown",
   "metadata": {},
   "source": [
    "## モデルで予想をしてみる"
   ]
  },
  {
   "cell_type": "code",
   "execution_count": 97,
   "metadata": {},
   "outputs": [
    {
     "name": "stdout",
     "output_type": "stream",
     "text": [
      "<class 'numpy.ndarray'>\n",
      "[ 32.58  17.47  -6.7   -2.93  15.28  17.28  17.62  13.35 -10.88  33.\n",
      "  20.21  25.48  -2.19  14.4    0.23   5.12 -14.08 -13.71 -23.49 -26.66\n",
      "  -1.58 -10.88   0.57 -16.58  -6.72   3.97  -8.63  -8.13 -22.05 -15.21\n",
      "  -6.93   5.77   7.15  -7.04   9.44  20.33  33.98 -20.42 -21.68 -32.91]\n",
      "[32.58 17.47  6.7   2.93 15.28 17.28 17.62 13.35 10.88 33.   20.21 25.48\n",
      "  2.19 14.4   0.23  5.12 14.08 13.71 23.49 26.66  1.58 10.88  0.57 16.58\n",
      "  6.72  3.97  8.63  8.13 22.05 15.21  6.93  5.77  7.15  7.04  9.44 20.33\n",
      " 33.98 20.42 21.68 32.91]\n",
      "error average is 0.35 %\n",
      "error absolute mean is 14 %\n"
     ]
    }
   ],
   "source": [
    "pre_temp=model.predict(sound_data)\n",
    "\n",
    "print(type(pre_temp))\n",
    "\n",
    "error=np.array([])\n",
    "error_abs=np.array([])\n",
    "for i in range(len(temp_data)):\n",
    "    error=np.append(error, (pre_temp[i]-temp_data[i])/temp_data[i]*100)\n",
    "    error_abs=np.append(error_abs, abs((pre_temp[i]-temp_data[i])/temp_data[i]*100))\n",
    "\n",
    "np.set_printoptions(precision=2, suppress=True)\n",
    "print(error)\n",
    "print(error_abs)\n",
    "print(\"error average is {:.2g} %\".format(np.mean(error)))\n",
    "print(\"error absolute average is {:.2g} %\".format(np.mean(error_abs)))"
   ]
  },
  {
   "cell_type": "code",
   "execution_count": 96,
   "metadata": {},
   "outputs": [
    {
     "name": "stdout",
     "output_type": "stream",
     "text": [
      "[  1.72  23.87  13.2  -11.61 -16.11 -31.24 -35.43  10.62 -19.05 -18.47]\n",
      "test error average is -8.3 %\n",
      "absolute test error average is 18 %\n",
      "[[33.57]\n",
      " [52.27]\n",
      " [56.38]\n",
      " [53.48]\n",
      " [56.21]\n",
      " [48.47]\n",
      " [49.01]\n",
      " [90.82]\n",
      " [69.46]\n",
      " [74.76]]\n",
      "[33.  42.2 49.8 60.5 67.  70.5 75.9 82.1 85.8 91.7]\n"
     ]
    }
   ],
   "source": [
    "pre_test_temp=model.predict(prediciton_sound_data)*100\n",
    "\n",
    "test_error=np.array([])\n",
    "test_error_abs=np.array([])\n",
    "for i in range(len(prediciton_temp_data)):\n",
    "    test_error=np.append(test_error, (pre_test_temp[i]-prediciton_temp_data[i])/prediciton_temp_data[i]*100)\n",
    "    test_error_abs=np.append(test_error_abs, abs((pre_test_temp[i]-prediciton_temp_data[i])/prediciton_temp_data[i]*100))\n",
    "    \n",
    "print(test_error)\n",
    "print(\"test error average is {:.2g} %\".format(np.mean(test_error)))\n",
    "print(\"absolute test error average is {:.2g} %\".format(np.mean(test_error_abs)))\n",
    "\n",
    "print(pre_test_temp)\n",
    "print(prediciton_temp_data)"
   ]
  },
  {
   "cell_type": "code",
   "execution_count": null,
   "metadata": {},
   "outputs": [],
   "source": []
  }
 ],
 "metadata": {
  "kernelspec": {
   "display_name": "Python 3",
   "language": "python",
   "name": "python3"
  },
  "language_info": {
   "codemirror_mode": {
    "name": "ipython",
    "version": 3
   },
   "file_extension": ".py",
   "mimetype": "text/x-python",
   "name": "python",
   "nbconvert_exporter": "python",
   "pygments_lexer": "ipython3",
   "version": "3.6.7"
  }
 },
 "nbformat": 4,
 "nbformat_minor": 2
}
