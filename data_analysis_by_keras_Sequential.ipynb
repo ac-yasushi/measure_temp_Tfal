{
 "cells": [
  {
   "cell_type": "markdown",
   "metadata": {},
   "source": [
    "## 指定のディレクトリからデータを読みだして学習に掛ける"
   ]
  },
  {
   "cell_type": "code",
   "execution_count": 1,
   "metadata": {},
   "outputs": [
    {
     "name": "stderr",
     "output_type": "stream",
     "text": [
      "Using TensorFlow backend.\n"
     ]
    }
   ],
   "source": [
    "import numpy as np\n",
    "import tensorflow as tf\n",
    "import keras\n",
    "import matplotlib.pyplot as plt\n",
    "import tensorflow.keras.backend as K"
   ]
  },
  {
   "cell_type": "code",
   "execution_count": 2,
   "metadata": {},
   "outputs": [],
   "source": [
    "with open(\"./t_fal_audio_data/np_data.dat\", mode=\"rb\") as f:\n",
    "    data=np.fromfile(f,dtype=float)"
   ]
  },
  {
   "cell_type": "markdown",
   "metadata": {},
   "source": [
    "### データは1配列で返されるので書き込み時の状態に変換する"
   ]
  },
  {
   "cell_type": "code",
   "execution_count": 3,
   "metadata": {},
   "outputs": [
    {
     "name": "stdout",
     "output_type": "stream",
     "text": [
      "<class 'numpy.ndarray'>\n",
      "40\n",
      "4097\n",
      "[0.214      0.11075341 0.15259981 ... 0.02155629 0.05022515 0.15259981]\n"
     ]
    }
   ],
   "source": [
    "size=2**12 #サンプリングのデータサイズを入力\n",
    "n=int(len(data)/(size+1))\n",
    "\n",
    "data=data.reshape((n, size+1))\n",
    "\n",
    "print(type(data))\n",
    "print(len(data))\n",
    "print(len(data[0]))\n",
    "print(data[0])"
   ]
  },
  {
   "cell_type": "code",
   "execution_count": 4,
   "metadata": {},
   "outputs": [
    {
     "name": "stdout",
     "output_type": "stream",
     "text": [
      "4096\n",
      "[0.214 0.24  0.265 0.345 0.308 0.346 0.33  0.34  0.42  0.38  0.431 0.423\n",
      " 0.482 0.479 0.501 0.503 0.513 0.579 0.55  0.567 0.592 0.689 0.636 0.661\n",
      " 0.671 0.69  0.718 0.759 0.75  0.775 0.856 0.795 0.831 0.833 0.861 0.91\n",
      " 0.886 0.92  0.942 0.94 ]\n",
      "<class 'numpy.float64'>\n"
     ]
    }
   ],
   "source": [
    "temp_data=np.array([])\n",
    "sound_data=np.array([])\n",
    "for i in range(len(data)):\n",
    "    temp_data=np.append(temp_data, data[i][0].real)\n",
    "    sound_data=np.append(sound_data, data[i][1:])\n",
    "\n",
    "sound_data=sound_data.reshape((n,size))\n",
    "\n",
    "\"\"\"\n",
    "temp_data:測定温度の配列(float)\n",
    "sound_data:音声スペクトルデータの2次元配列([[complex]...[]])\n",
    "\"\"\"\n",
    "\n",
    "    \n",
    "print(len(sound_data[0]))\n",
    "print(temp_data)\n",
    "print(type(temp_data[0]))"
   ]
  },
  {
   "cell_type": "markdown",
   "metadata": {},
   "source": [
    "<font size=5 color=\"red\">予測データの用意</font>"
   ]
  },
  {
   "cell_type": "code",
   "execution_count": 5,
   "metadata": {},
   "outputs": [
    {
     "name": "stdout",
     "output_type": "stream",
     "text": [
      "[33.  42.2 49.8 60.5 67.  70.5 75.9 82.1 85.8 91.7]\n",
      "[[0.07170207 0.08974837 0.0852675  ... 0.07528725 0.0852675  0.08974837]\n",
      " [0.081953   0.09420389 0.10618163 ... 0.0246869  0.10618163 0.09420389]\n",
      " [0.17753448 0.0796667  0.05342869 ... 0.11737094 0.05342869 0.0796667 ]\n",
      " ...\n",
      " [0.01008851 0.07105503 0.08758143 ... 0.03424141 0.08758143 0.07105503]\n",
      " [0.11010878 0.07297494 0.02128973 ... 0.03864819 0.02128973 0.07297494]\n",
      " [0.03787634 0.02785253 0.10334471 ... 0.37592443 0.10334471 0.02785253]]\n"
     ]
    }
   ],
   "source": [
    "with open(\"./t_fal_audio_data/np_prediction_data.dat\", mode=\"rb\") as f:\n",
    "    prediction_data=np.fromfile(f,dtype=float)\n",
    "\n",
    "prediction_data=prediction_data.reshape((10,4097))\n",
    "\n",
    "prediciton_temp_data=np.array([])\n",
    "prediciton_sound_data=np.array([])\n",
    "for i in range(len(prediction_data)):\n",
    "    prediciton_temp_data=np.append(prediciton_temp_data, prediction_data[i][0])\n",
    "    prediciton_sound_data=np.append(prediciton_sound_data, prediction_data[i][1:])\n",
    "    \n",
    "prediciton_sound_data=prediciton_sound_data.reshape((10,4096))\n",
    "\n",
    "print(prediciton_temp_data)\n",
    "print(prediciton_sound_data)"
   ]
  },
  {
   "cell_type": "markdown",
   "metadata": {},
   "source": [
    "# TFのkerasで学習装置を実装してみる"
   ]
  },
  {
   "cell_type": "code",
   "execution_count": 25,
   "metadata": {},
   "outputs": [],
   "source": [
    "model=keras.Sequential([\n",
    "    keras.layers.Dense(4096, activation=tf.nn.relu, input_dim=4096),\n",
    "    keras.layers.Dense(512, activation=tf.nn.relu),\n",
    "    keras.layers.Dense(128, activation=tf.nn.relu),\n",
    "    keras.layers.Dense(10, activation=tf.nn.relu),\n",
    "    keras.layers.Dense(1)\n",
    "])"
   ]
  },
  {
   "cell_type": "code",
   "execution_count": 26,
   "metadata": {},
   "outputs": [
    {
     "name": "stdout",
     "output_type": "stream",
     "text": [
      "_________________________________________________________________\n",
      "Layer (type)                 Output Shape              Param #   \n",
      "=================================================================\n",
      "dense_16 (Dense)             (None, 4096)              16781312  \n",
      "_________________________________________________________________\n",
      "dense_17 (Dense)             (None, 512)               2097664   \n",
      "_________________________________________________________________\n",
      "dense_18 (Dense)             (None, 128)               65664     \n",
      "_________________________________________________________________\n",
      "dense_19 (Dense)             (None, 10)                1290      \n",
      "_________________________________________________________________\n",
      "dense_20 (Dense)             (None, 1)                 11        \n",
      "=================================================================\n",
      "Total params: 18,945,941\n",
      "Trainable params: 18,945,941\n",
      "Non-trainable params: 0\n",
      "_________________________________________________________________\n",
      "None\n"
     ]
    }
   ],
   "source": [
    "#optimizer = tf.train.RMSPropOptimizer(0.5)\n",
    "optimizer = keras.optimizers.Adadelta()\n",
    "\n",
    "def abs_percent(y_ture, y_pred):\n",
    "    return 1-abs((y_pred-y_ture)/y_ture)\n",
    "\n",
    "\n",
    "model.compile(loss='mse',\n",
    "            optimizer=optimizer,\n",
    "            metrics=[abs_percent])\n",
    "\"\"\"\n",
    "model.compile(loss='mse',\n",
    "            optimizer=optimizer)\n",
    "\"\"\"\n",
    "print(model.summary())"
   ]
  },
  {
   "cell_type": "code",
   "execution_count": 27,
   "metadata": {},
   "outputs": [
    {
     "name": "stdout",
     "output_type": "stream",
     "text": [
      "Epoch 1/50\n",
      "40/40 [==============================] - 2s 38ms/step - loss: 0.5645 - abs_percent: -0.1139\n",
      "Epoch 2/50\n",
      "40/40 [==============================] - 1s 13ms/step - loss: 0.3164 - abs_percent: 0.1633\n",
      "Epoch 3/50\n",
      "40/40 [==============================] - 1s 14ms/step - loss: 0.1075 - abs_percent: 0.5117\n",
      "Epoch 4/50\n",
      "40/40 [==============================] - 1s 13ms/step - loss: 0.1813 - abs_percent: 0.3317\n",
      "Epoch 5/50\n",
      "40/40 [==============================] - 1s 13ms/step - loss: 0.0506 - abs_percent: 0.6898\n",
      "Epoch 6/50\n",
      "40/40 [==============================] - 1s 14ms/step - loss: 0.0851 - abs_percent: 0.6104\n",
      "Epoch 7/50\n",
      "40/40 [==============================] - 1s 14ms/step - loss: 0.0396 - abs_percent: 0.7447\n",
      "Epoch 8/50\n",
      "40/40 [==============================] - 1s 14ms/step - loss: 0.0558 - abs_percent: 0.6746\n",
      "Epoch 9/50\n",
      "40/40 [==============================] - 1s 13ms/step - loss: 0.0651 - abs_percent: 0.6526\n",
      "Epoch 10/50\n",
      "40/40 [==============================] - 1s 14ms/step - loss: 0.0293 - abs_percent: 0.7800\n",
      "Epoch 11/50\n",
      "40/40 [==============================] - 1s 14ms/step - loss: 0.0286 - abs_percent: 0.7695\n",
      "Epoch 12/50\n",
      "40/40 [==============================] - 1s 13ms/step - loss: 0.0277 - abs_percent: 0.7689\n",
      "Epoch 13/50\n",
      "40/40 [==============================] - 1s 13ms/step - loss: 0.0195 - abs_percent: 0.8286\n",
      "Epoch 14/50\n",
      "40/40 [==============================] - 1s 14ms/step - loss: 0.0196 - abs_percent: 0.8354\n",
      "Epoch 15/50\n",
      "40/40 [==============================] - 1s 14ms/step - loss: 0.0159 - abs_percent: 0.8634\n",
      "Epoch 16/50\n",
      "40/40 [==============================] - 1s 13ms/step - loss: 0.0189 - abs_percent: 0.8515\n",
      "Epoch 17/50\n",
      "40/40 [==============================] - 1s 13ms/step - loss: 0.0208 - abs_percent: 0.8289\n",
      "Epoch 18/50\n",
      "40/40 [==============================] - 1s 14ms/step - loss: 0.0399 - abs_percent: 0.7262\n",
      "Epoch 19/50\n",
      "40/40 [==============================] - 1s 14ms/step - loss: 0.0363 - abs_percent: 0.7614\n",
      "Epoch 20/50\n",
      "40/40 [==============================] - 1s 13ms/step - loss: 0.0126 - abs_percent: 0.8778\n",
      "Epoch 21/50\n",
      "40/40 [==============================] - 1s 13ms/step - loss: 0.0117 - abs_percent: 0.8824\n",
      "Epoch 22/50\n",
      "40/40 [==============================] - 1s 13ms/step - loss: 0.0095 - abs_percent: 0.8919\n",
      "Epoch 23/50\n",
      "40/40 [==============================] - 1s 13ms/step - loss: 0.0092 - abs_percent: 0.8937\n",
      "Epoch 24/50\n",
      "40/40 [==============================] - 1s 14ms/step - loss: 0.0093 - abs_percent: 0.8832\n",
      "Epoch 25/50\n",
      "40/40 [==============================] - 1s 14ms/step - loss: 0.0069 - abs_percent: 0.9004\n",
      "Epoch 26/50\n",
      "40/40 [==============================] - 1s 14ms/step - loss: 0.0073 - abs_percent: 0.8978\n",
      "Epoch 27/50\n",
      "40/40 [==============================] - 1s 14ms/step - loss: 0.0129 - abs_percent: 0.8447\n",
      "Epoch 28/50\n",
      "40/40 [==============================] - 1s 13ms/step - loss: 0.0073 - abs_percent: 0.8904\n",
      "Epoch 29/50\n",
      "40/40 [==============================] - 1s 13ms/step - loss: 0.0152 - abs_percent: 0.8229\n",
      "Epoch 30/50\n",
      "40/40 [==============================] - 1s 14ms/step - loss: 0.0324 - abs_percent: 0.7201\n",
      "Epoch 31/50\n",
      "40/40 [==============================] - 1s 13ms/step - loss: 0.0142 - abs_percent: 0.8337\n",
      "Epoch 32/50\n",
      "40/40 [==============================] - 1s 13ms/step - loss: 0.0111 - abs_percent: 0.8335\n",
      "Epoch 33/50\n",
      "40/40 [==============================] - 1s 13ms/step - loss: 0.0289 - abs_percent: 0.7379\n",
      "Epoch 34/50\n",
      "40/40 [==============================] - 1s 14ms/step - loss: 0.0046 - abs_percent: 0.8986\n",
      "Epoch 35/50\n",
      "40/40 [==============================] - 1s 13ms/step - loss: 0.0036 - abs_percent: 0.9151\n",
      "Epoch 36/50\n",
      "40/40 [==============================] - 1s 14ms/step - loss: 0.0059 - abs_percent: 0.8887\n",
      "Epoch 37/50\n",
      "40/40 [==============================] - 1s 13ms/step - loss: 0.0139 - abs_percent: 0.8292\n",
      "Epoch 38/50\n",
      "40/40 [==============================] - 1s 14ms/step - loss: 0.0030 - abs_percent: 0.9200\n",
      "Epoch 39/50\n",
      "40/40 [==============================] - 1s 13ms/step - loss: 0.0026 - abs_percent: 0.9248\n",
      "Epoch 40/50\n",
      "40/40 [==============================] - 1s 14ms/step - loss: 0.0039 - abs_percent: 0.8994\n",
      "Epoch 41/50\n",
      "40/40 [==============================] - 1s 14ms/step - loss: 0.0106 - abs_percent: 0.8331\n",
      "Epoch 42/50\n",
      "40/40 [==============================] - 1s 14ms/step - loss: 0.0100 - abs_percent: 0.8422\n",
      "Epoch 43/50\n",
      "40/40 [==============================] - 1s 14ms/step - loss: 0.0118 - abs_percent: 0.8337\n",
      "Epoch 44/50\n",
      "40/40 [==============================] - 1s 13ms/step - loss: 0.0090 - abs_percent: 0.8588\n",
      "Epoch 45/50\n",
      "40/40 [==============================] - 1s 14ms/step - loss: 0.0226 - abs_percent: 0.7490\n",
      "Epoch 46/50\n",
      "40/40 [==============================] - 1s 14ms/step - loss: 0.0199 - abs_percent: 0.7861\n",
      "Epoch 47/50\n",
      "40/40 [==============================] - 1s 14ms/step - loss: 0.0122 - abs_percent: 0.8369\n",
      "Epoch 48/50\n",
      "40/40 [==============================] - 1s 14ms/step - loss: 0.0133 - abs_percent: 0.8298\n",
      "Epoch 49/50\n",
      "40/40 [==============================] - 1s 14ms/step - loss: 0.0163 - abs_percent: 0.8087\n",
      "Epoch 50/50\n",
      "40/40 [==============================] - 1s 14ms/step - loss: 0.0027 - abs_percent: 0.9241\n"
     ]
    },
    {
     "data": {
      "image/png": "[encoded data removed]",
      "text/plain": [
       "<Figure size 1440x720 with 2 Axes>"
      ]
     },
     "metadata": {
      "needs_background": "light"
     },
     "output_type": "display_data"
    }
   ],
   "source": [
    "epochs=50\n",
    "\n",
    "fit=model.fit(sound_data, temp_data, epochs=epochs, callbacks=None, validation_split=0)\n",
    "\n",
    "\n",
    "plt.figure(figsize=(20,10))\n",
    "\n",
    "plt.subplot(1, 2, 1)\n",
    "plt.xlim(0,epochs)\n",
    "plt.ylim(0, 0.5)\n",
    "plt.plot(fit.history['loss'], label=\"loss of training\")\n",
    "try:\n",
    "    plt.plot(fit.history['val_loss'], label=\"loss of validation\")\n",
    "except:\n",
    "    pass\n",
    "plt.title(\"model loss\")\n",
    "plt.xlabel(\"epoch\")\n",
    "plt.ylabel(\"loss\")\n",
    "plt.legend()\n",
    "\n",
    "plt.subplot(1, 2, 2)\n",
    "plt.xlim(0,epochs)\n",
    "plt.ylim(0, 1)\n",
    "plt.plot(fit.history['abs_percent'], label=\"acc of training\")\n",
    "try:\n",
    "    plt.plot(fit.history['val_abs_percent'], label=\"acc of validation\")\n",
    "except:\n",
    "    pass\n",
    "plt.title(\"model accuracy\")\n",
    "plt.xlabel(\"epoch\")\n",
    "plt.ylabel(\"accuracy\")\n",
    "plt.legend()\n",
    "\n",
    "plt.show()"
   ]
  },
  {
   "cell_type": "code",
   "execution_count": 28,
   "metadata": {},
   "outputs": [
    {
     "name": "stdout",
     "output_type": "stream",
     "text": [
      "40/40 [==============================] - 0s 4ms/step\n",
      "Test_loss: 0.002086775377392769\n",
      "Test_accuracy: 0.9321275949478149\n"
     ]
    }
   ],
   "source": [
    "test_loss, test_acc = model.evaluate(sound_data, temp_data)\n",
    "\n",
    "print(\"Test_loss:\", test_loss)\n",
    "print(\"Test_accuracy:\", test_acc)"
   ]
  },
  {
   "cell_type": "code",
   "execution_count": 29,
   "metadata": {},
   "outputs": [
    {
     "name": "stdout",
     "output_type": "stream",
     "text": [
      "10/10 [==============================] - 0s 1ms/step\n",
      "Test_loss: 4588.9599609375\n",
      "Test_accuracy: 0.009583598002791405\n"
     ]
    }
   ],
   "source": [
    "test_loss, test_acc = model.evaluate(prediciton_sound_data, prediciton_temp_data)\n",
    "\n",
    "print(\"Test_loss:\", test_loss)\n",
    "print(\"Test_accuracy:\", test_acc)"
   ]
  },
  {
   "cell_type": "markdown",
   "metadata": {},
   "source": [
    "## モデルで予想をしてみる"
   ]
  },
  {
   "cell_type": "code",
   "execution_count": 12,
   "metadata": {},
   "outputs": [
    {
     "name": "stdout",
     "output_type": "stream",
     "text": [
      "<class 'numpy.ndarray'>\n",
      "[ 11.67  -3.59  -3.79 -11.69   3.59  -7.35   7.96  -7.11  -8.52   2.32\n",
      "  -5.63   0.83 -16.33  -4.33  -3.51 -14.16  -9.66 -11.42 -15.62 -15.26\n",
      "  -6.01 -10.34  -6.18  -9.39  -7.3   -5.21  -4.99  -8.83 -11.53 -11.92\n",
      " -11.64  -4.3   -4.53 -10.2   -4.13  -6.52  -0.6  -12.04  -3.08  -9.69]\n",
      "[11.67  3.59  3.79 11.69  3.59  7.35  7.96  7.11  8.52  2.32  5.63  0.83\n",
      " 16.33  4.33  3.51 14.16  9.66 11.42 15.62 15.26  6.01 10.34  6.18  9.39\n",
      "  7.3   5.21  4.99  8.83 11.53 11.92 11.64  4.3   4.53 10.2   4.13  6.52\n",
      "  0.6  12.04  3.08  9.69]\n",
      "error average is -6.5 %\n",
      "error absolute average is 7.8 %\n"
     ]
    }
   ],
   "source": [
    "pre_temp=model.predict(sound_data)\n",
    "\n",
    "print(type(pre_temp))\n",
    "\n",
    "error=np.array([])\n",
    "error_abs=np.array([])\n",
    "for i in range(len(temp_data)):\n",
    "    error=np.append(error, (pre_temp[i]-temp_data[i])/temp_data[i]*100)\n",
    "    error_abs=np.append(error_abs, abs((pre_temp[i]-temp_data[i])/temp_data[i]*100))\n",
    "\n",
    "np.set_printoptions(precision=2, suppress=True)\n",
    "print(error)\n",
    "print(error_abs)\n",
    "print(\"error average is {:.2g} %\".format(np.mean(error)))\n",
    "print(\"error absolute average is {:.2g} %\".format(np.mean(error_abs)))"
   ]
  },
  {
   "cell_type": "code",
   "execution_count": 13,
   "metadata": {},
   "outputs": [
    {
     "name": "stdout",
     "output_type": "stream",
     "text": [
      "[-23.02  18.36   4.66  -7.87  -6.74 -30.38 -38.64  -4.14 -27.06 -12.95]\n",
      "test error average is -13 %\n",
      "absolute test error average is 17 %\n",
      "[[25.4 ]\n",
      " [49.95]\n",
      " [52.12]\n",
      " [55.74]\n",
      " [62.49]\n",
      " [49.08]\n",
      " [46.57]\n",
      " [78.7 ]\n",
      " [62.58]\n",
      " [79.83]]\n",
      "[33.  42.2 49.8 60.5 67.  70.5 75.9 82.1 85.8 91.7]\n"
     ]
    }
   ],
   "source": [
    "pre_test_temp=model.predict(prediciton_sound_data)*100\n",
    "\n",
    "test_error=np.array([])\n",
    "test_error_abs=np.array([])\n",
    "for i in range(len(prediciton_temp_data)):\n",
    "    test_error=np.append(test_error, (pre_test_temp[i]-prediciton_temp_data[i])/prediciton_temp_data[i]*100)\n",
    "    test_error_abs=np.append(test_error_abs, abs((pre_test_temp[i]-prediciton_temp_data[i])/prediciton_temp_data[i]*100))\n",
    "    \n",
    "print(test_error)\n",
    "print(\"test error average is {:.2g} %\".format(np.mean(test_error)))\n",
    "print(\"absolute test error average is {:.2g} %\".format(np.mean(test_error_abs)))\n",
    "\n",
    "print(pre_test_temp)\n",
    "print(prediciton_temp_data)"
   ]
  },
  {
   "cell_type": "code",
   "execution_count": 14,
   "metadata": {},
   "outputs": [
    {
     "name": "stdout",
     "output_type": "stream",
     "text": [
      "[[23.9 ]\n",
      " [23.14]\n",
      " [25.5 ]\n",
      " [30.47]\n",
      " [31.9 ]\n",
      " [32.06]\n",
      " [35.63]\n",
      " [31.58]\n",
      " [38.42]\n",
      " [38.88]\n",
      " [40.68]\n",
      " [42.65]\n",
      " [40.33]\n",
      " [45.83]\n",
      " [48.34]\n",
      " [43.18]\n",
      " [46.34]\n",
      " [51.29]\n",
      " [46.41]\n",
      " [48.05]\n",
      " [55.64]\n",
      " [61.78]\n",
      " [59.67]\n",
      " [59.89]\n",
      " [62.2 ]\n",
      " [65.41]\n",
      " [68.22]\n",
      " [69.19]\n",
      " [66.35]\n",
      " [68.26]\n",
      " [75.63]\n",
      " [76.08]\n",
      " [79.33]\n",
      " [74.8 ]\n",
      " [82.54]\n",
      " [85.06]\n",
      " [88.07]\n",
      " [80.92]\n",
      " [91.3 ]\n",
      " [84.89]]\n"
     ]
    }
   ],
   "source": [
    "print(pre_temp*100)"
   ]
  },
  {
   "cell_type": "markdown",
   "metadata": {},
   "source": [
    "### 過学習はなさそう。その代わり、どうしても解析できない部分の温度帯がある。\n",
    "---\n",
    "ともあれ、これが現状で一番のモデルであるので保存してリアルタイムの温度測定に用いてみる。\n",
    "過学習の検証はそこで同時に行える。"
   ]
  },
  {
   "cell_type": "code",
   "execution_count": 15,
   "metadata": {},
   "outputs": [],
   "source": [
    "model.save(\"./model\")"
   ]
  },
  {
   "cell_type": "code",
   "execution_count": null,
   "metadata": {},
   "outputs": [],
   "source": []
  }
 ],
 "metadata": {
  "kernelspec": {
   "display_name": "Python 3",
   "language": "python",
   "name": "python3"
  },
  "language_info": {
   "codemirror_mode": {
    "name": "ipython",
    "version": 3
   },
   "file_extension": ".py",
   "mimetype": "text/x-python",
   "name": "python",
   "nbconvert_exporter": "python",
   "pygments_lexer": "ipython3",
   "version": "3.6.8"
  }
 },
 "nbformat": 4,
 "nbformat_minor": 2
}
