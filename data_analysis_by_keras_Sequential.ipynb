{
 "cells": [
  {
   "cell_type": "markdown",
   "metadata": {},
   "source": [
    "## 指定のディレクトリからデータを読みだして学習に掛ける"
   ]
  },
  {
   "cell_type": "code",
   "execution_count": 1,
   "metadata": {},
   "outputs": [],
   "source": [
    "import numpy as np\n",
    "import tensorflow as tf\n",
    "from tensorflow import keras"
   ]
  },
  {
   "cell_type": "code",
   "execution_count": 2,
   "metadata": {},
   "outputs": [],
   "source": [
    "with open(\"./t_fal_audio_data/np_data.dat\", mode=\"rb\") as f:\n",
    "    data=np.fromfile(f,dtype=float)"
   ]
  },
  {
   "cell_type": "markdown",
   "metadata": {},
   "source": [
    "### データは1配列で返されるので書き込み時の状態に変換する"
   ]
  },
  {
   "cell_type": "code",
   "execution_count": 3,
   "metadata": {},
   "outputs": [
    {
     "name": "stdout",
     "output_type": "stream",
     "text": [
      "<class 'numpy.ndarray'>\n",
      "26\n",
      "4097\n",
      "[0.214      0.11075341 0.15259981 ... 0.02155629 0.05022515 0.15259981]\n"
     ]
    }
   ],
   "source": [
    "size=2**12 #サンプリングのデータサイズを入力\n",
    "n=int(len(data)/(size+1))\n",
    "\n",
    "data=data.reshape((n, size+1))\n",
    "\n",
    "print(type(data))\n",
    "print(len(data))\n",
    "print(len(data[0]))\n",
    "print(data[0])"
   ]
  },
  {
   "cell_type": "code",
   "execution_count": 48,
   "metadata": {},
   "outputs": [
    {
     "name": "stdout",
     "output_type": "stream",
     "text": [
      "4096\n",
      "[0.214 0.345 0.308 0.346 0.42  0.38  0.431 0.482 0.479 0.501 0.579 0.55\n",
      " 0.567 0.689 0.636 0.661 0.718 0.759 0.75  0.856 0.795 0.831 0.91  0.886\n",
      " 0.942 0.94 ]\n",
      "<class 'numpy.float64'>\n"
     ]
    }
   ],
   "source": [
    "temp_data=np.array([])\n",
    "sound_data=np.array([])\n",
    "for i in range(len(data)):\n",
    "    temp_data=np.append(temp_data, data[i][0].real)\n",
    "    sound_data=np.append(sound_data, data[i][1:])\n",
    "\n",
    "sound_data=sound_data.reshape((n,size))\n",
    "\n",
    "\"\"\"\n",
    "temp_data:測定温度の配列(float)\n",
    "sound_data:音声スペクトルデータの2次元配列([[complex]...[]])\n",
    "\"\"\"\n",
    "\n",
    "    \n",
    "print(len(sound_data[0]))\n",
    "print(temp_data)\n",
    "print(type(temp_data[0]))"
   ]
  },
  {
   "cell_type": "markdown",
   "metadata": {},
   "source": [
    "<font size=5 color=\"red\">予測データの用意</font>"
   ]
  },
  {
   "cell_type": "code",
   "execution_count": 49,
   "metadata": {},
   "outputs": [
    {
     "name": "stdout",
     "output_type": "stream",
     "text": [
      "[33.  49.8 67.  82.1]\n",
      "[[0.07170207 0.08974837 0.0852675  ... 0.07528725 0.0852675  0.08974837]\n",
      " [0.17753448 0.0796667  0.05342869 ... 0.11737094 0.05342869 0.0796667 ]\n",
      " [0.0776328  0.02124883 0.03114722 ... 0.03219219 0.03114722 0.02124883]\n",
      " [0.01008851 0.07105503 0.08758143 ... 0.03424141 0.08758143 0.07105503]]\n"
     ]
    }
   ],
   "source": [
    "with open(\"./t_fal_audio_data/np_prediction_data.dat\", mode=\"rb\") as f:\n",
    "    prediction_data=np.fromfile(f,dtype=float)\n",
    "\n",
    "prediction_data=prediction_data.reshape((4,4097))\n",
    "\n",
    "prediciton_temp_data=np.array([])\n",
    "prediciton_sound_data=np.array([])\n",
    "for i in range(len(prediction_data)):\n",
    "    prediciton_temp_data=np.append(prediciton_temp_data, prediction_data[i][0])\n",
    "    prediciton_sound_data=np.append(prediciton_sound_data, prediction_data[i][1:])\n",
    "    \n",
    "prediciton_sound_data=prediciton_sound_data.reshape((4,4096))\n",
    "\n",
    "print(prediciton_temp_data)\n",
    "print(prediciton_sound_data)"
   ]
  },
  {
   "cell_type": "markdown",
   "metadata": {},
   "source": [
    "# TFのkerasで学習装置を実装してみる"
   ]
  },
  {
   "cell_type": "code",
   "execution_count": 50,
   "metadata": {},
   "outputs": [],
   "source": [
    "model=keras.Sequential([\n",
    "    keras.layers.Dense(4096, activation=tf.nn.relu, input_dim=4096),\n",
    "    keras.layers.Dense(512, activation=tf.nn.relu),\n",
    "    keras.layers.Dense(128, activation=tf.nn.relu),\n",
    "#    keras.layers.Dense(10, activation=tf.nn.relu),\n",
    "    keras.layers.Dense(1)\n",
    "])"
   ]
  },
  {
   "cell_type": "code",
   "execution_count": 51,
   "metadata": {},
   "outputs": [],
   "source": [
    "#optimizer = tf.train.RMSPropOptimizer(0.5)\n",
    "optimizer = tf.train.AdamOptimizer()\n",
    " \n",
    "model.compile(loss='mse',\n",
    "            optimizer=optimizer,\n",
    "            metrics=['mae'])"
   ]
  },
  {
   "cell_type": "code",
   "execution_count": 52,
   "metadata": {},
   "outputs": [
    {
     "name": "stdout",
     "output_type": "stream",
     "text": [
      "Epoch 1/80\n",
      "26/26 [==============================] - 1s 46ms/step - loss: 5.5559 - mean_absolute_error: 1.4989\n",
      "Epoch 2/80\n",
      "26/26 [==============================] - 0s 7ms/step - loss: 0.2011 - mean_absolute_error: 0.3394\n",
      "Epoch 3/80\n",
      "26/26 [==============================] - 0s 7ms/step - loss: 0.1495 - mean_absolute_error: 0.3310\n",
      "Epoch 4/80\n",
      "26/26 [==============================] - 0s 7ms/step - loss: 0.1569 - mean_absolute_error: 0.3440\n",
      "Epoch 5/80\n",
      "26/26 [==============================] - 0s 7ms/step - loss: 0.0478 - mean_absolute_error: 0.1637\n",
      "Epoch 6/80\n",
      "26/26 [==============================] - 0s 7ms/step - loss: 0.1020 - mean_absolute_error: 0.2638\n",
      "Epoch 7/80\n",
      "26/26 [==============================] - 0s 7ms/step - loss: 0.0434 - mean_absolute_error: 0.1387\n",
      "Epoch 8/80\n",
      "26/26 [==============================] - 0s 7ms/step - loss: 0.0557 - mean_absolute_error: 0.1852\n",
      "Epoch 9/80\n",
      "26/26 [==============================] - 0s 7ms/step - loss: 0.0671 - mean_absolute_error: 0.2067\n",
      "Epoch 10/80\n",
      "26/26 [==============================] - 0s 7ms/step - loss: 0.0466 - mean_absolute_error: 0.1658\n",
      "Epoch 11/80\n",
      "26/26 [==============================] - 0s 7ms/step - loss: 0.0378 - mean_absolute_error: 0.1439\n",
      "Epoch 12/80\n",
      "26/26 [==============================] - 0s 7ms/step - loss: 0.0349 - mean_absolute_error: 0.1367\n",
      "Epoch 13/80\n",
      "26/26 [==============================] - 0s 7ms/step - loss: 0.0211 - mean_absolute_error: 0.0934\n",
      "Epoch 14/80\n",
      "26/26 [==============================] - 0s 7ms/step - loss: 0.0401 - mean_absolute_error: 0.1642\n",
      "Epoch 15/80\n",
      "26/26 [==============================] - 0s 7ms/step - loss: 0.0344 - mean_absolute_error: 0.1429\n",
      "Epoch 16/80\n",
      "26/26 [==============================] - 0s 7ms/step - loss: 0.0345 - mean_absolute_error: 0.1487\n",
      "Epoch 17/80\n",
      "26/26 [==============================] - 0s 7ms/step - loss: 0.0711 - mean_absolute_error: 0.2395\n",
      "Epoch 18/80\n",
      "26/26 [==============================] - 0s 7ms/step - loss: 0.0200 - mean_absolute_error: 0.0972\n",
      "Epoch 19/80\n",
      "26/26 [==============================] - 0s 7ms/step - loss: 0.0617 - mean_absolute_error: 0.2148\n",
      "Epoch 20/80\n",
      "26/26 [==============================] - 0s 7ms/step - loss: 0.0229 - mean_absolute_error: 0.1277\n",
      "Epoch 21/80\n",
      "26/26 [==============================] - 0s 7ms/step - loss: 0.0185 - mean_absolute_error: 0.1176\n",
      "Epoch 22/80\n",
      "26/26 [==============================] - 0s 7ms/step - loss: 0.0187 - mean_absolute_error: 0.1135\n",
      "Epoch 23/80\n",
      "26/26 [==============================] - 0s 7ms/step - loss: 0.0113 - mean_absolute_error: 0.0839\n",
      "Epoch 24/80\n",
      "26/26 [==============================] - 0s 7ms/step - loss: 0.0117 - mean_absolute_error: 0.0868\n",
      "Epoch 25/80\n",
      "26/26 [==============================] - 0s 7ms/step - loss: 0.0118 - mean_absolute_error: 0.0876\n",
      "Epoch 26/80\n",
      "26/26 [==============================] - 0s 7ms/step - loss: 0.0068 - mean_absolute_error: 0.0598\n",
      "Epoch 27/80\n",
      "26/26 [==============================] - 0s 7ms/step - loss: 0.0088 - mean_absolute_error: 0.0783\n",
      "Epoch 28/80\n",
      "26/26 [==============================] - 0s 7ms/step - loss: 0.0084 - mean_absolute_error: 0.0758\n",
      "Epoch 29/80\n",
      "26/26 [==============================] - 0s 7ms/step - loss: 0.0075 - mean_absolute_error: 0.0771\n",
      "Epoch 30/80\n",
      "26/26 [==============================] - 0s 7ms/step - loss: 0.0067 - mean_absolute_error: 0.0703\n",
      "Epoch 31/80\n",
      "26/26 [==============================] - 0s 7ms/step - loss: 0.0029 - mean_absolute_error: 0.0417\n",
      "Epoch 32/80\n",
      "26/26 [==============================] - 0s 7ms/step - loss: 0.0029 - mean_absolute_error: 0.0435\n",
      "Epoch 33/80\n",
      "26/26 [==============================] - 0s 7ms/step - loss: 0.0038 - mean_absolute_error: 0.0526\n",
      "Epoch 34/80\n",
      "26/26 [==============================] - 0s 7ms/step - loss: 0.0023 - mean_absolute_error: 0.0402\n",
      "Epoch 35/80\n",
      "26/26 [==============================] - 0s 7ms/step - loss: 0.0026 - mean_absolute_error: 0.0431\n",
      "Epoch 36/80\n",
      "26/26 [==============================] - 0s 7ms/step - loss: 0.0023 - mean_absolute_error: 0.0395\n",
      "Epoch 37/80\n",
      "26/26 [==============================] - 0s 7ms/step - loss: 0.0011 - mean_absolute_error: 0.0275\n",
      "Epoch 38/80\n",
      "26/26 [==============================] - 0s 7ms/step - loss: 0.0012 - mean_absolute_error: 0.0301\n",
      "Epoch 39/80\n",
      "26/26 [==============================] - 0s 7ms/step - loss: 8.2226e-04 - mean_absolute_error: 0.0239\n",
      "Epoch 40/80\n",
      "26/26 [==============================] - 0s 7ms/step - loss: 6.8497e-04 - mean_absolute_error: 0.0225\n",
      "Epoch 41/80\n",
      "26/26 [==============================] - 0s 7ms/step - loss: 6.8577e-04 - mean_absolute_error: 0.0207\n",
      "Epoch 42/80\n",
      "26/26 [==============================] - 0s 7ms/step - loss: 6.2840e-04 - mean_absolute_error: 0.0223\n",
      "Epoch 43/80\n",
      "26/26 [==============================] - 0s 7ms/step - loss: 5.5894e-04 - mean_absolute_error: 0.0204\n",
      "Epoch 44/80\n",
      "26/26 [==============================] - 0s 7ms/step - loss: 4.3928e-04 - mean_absolute_error: 0.0164\n",
      "Epoch 45/80\n",
      "26/26 [==============================] - 0s 7ms/step - loss: 4.0640e-04 - mean_absolute_error: 0.0168\n",
      "Epoch 46/80\n",
      "26/26 [==============================] - 0s 7ms/step - loss: 2.9441e-04 - mean_absolute_error: 0.0127\n",
      "Epoch 47/80\n",
      "26/26 [==============================] - 0s 7ms/step - loss: 3.5496e-04 - mean_absolute_error: 0.0142\n",
      "Epoch 48/80\n",
      "26/26 [==============================] - 0s 7ms/step - loss: 2.2240e-04 - mean_absolute_error: 0.0114\n",
      "Epoch 49/80\n",
      "26/26 [==============================] - 0s 7ms/step - loss: 1.5875e-04 - mean_absolute_error: 0.0095\n",
      "Epoch 50/80\n",
      "26/26 [==============================] - 0s 7ms/step - loss: 2.0984e-04 - mean_absolute_error: 0.0118\n",
      "Epoch 51/80\n",
      "26/26 [==============================] - 0s 7ms/step - loss: 1.1718e-04 - mean_absolute_error: 0.0084\n",
      "Epoch 52/80\n",
      "26/26 [==============================] - 0s 7ms/step - loss: 9.0948e-05 - mean_absolute_error: 0.0073\n",
      "Epoch 53/80\n",
      "26/26 [==============================] - 0s 7ms/step - loss: 9.0312e-05 - mean_absolute_error: 0.0078\n",
      "Epoch 54/80\n",
      "26/26 [==============================] - 0s 7ms/step - loss: 5.7448e-05 - mean_absolute_error: 0.0056\n",
      "Epoch 55/80\n",
      "26/26 [==============================] - 0s 7ms/step - loss: 5.4816e-05 - mean_absolute_error: 0.0058\n",
      "Epoch 56/80\n",
      "26/26 [==============================] - 0s 7ms/step - loss: 4.0817e-05 - mean_absolute_error: 0.0048\n",
      "Epoch 57/80\n",
      "26/26 [==============================] - 0s 7ms/step - loss: 3.5401e-05 - mean_absolute_error: 0.0044\n",
      "Epoch 58/80\n",
      "26/26 [==============================] - 0s 7ms/step - loss: 2.8576e-05 - mean_absolute_error: 0.0040\n",
      "Epoch 59/80\n",
      "26/26 [==============================] - 0s 7ms/step - loss: 2.9485e-05 - mean_absolute_error: 0.0041\n",
      "Epoch 60/80\n",
      "26/26 [==============================] - 0s 7ms/step - loss: 2.6995e-05 - mean_absolute_error: 0.0040\n",
      "Epoch 61/80\n",
      "26/26 [==============================] - 0s 7ms/step - loss: 2.1561e-05 - mean_absolute_error: 0.0035\n",
      "Epoch 62/80\n",
      "26/26 [==============================] - ETA: 0s - loss: 2.4875e-05 - mean_absolute_error: 0.004 - 0s 7ms/step - loss: 2.4511e-05 - mean_absolute_error: 0.0042\n",
      "Epoch 63/80\n",
      "26/26 [==============================] - 0s 7ms/step - loss: 1.8625e-05 - mean_absolute_error: 0.0028\n",
      "Epoch 64/80\n",
      "26/26 [==============================] - 0s 7ms/step - loss: 7.4087e-06 - mean_absolute_error: 0.0020\n",
      "Epoch 65/80\n",
      "26/26 [==============================] - 0s 7ms/step - loss: 2.8571e-05 - mean_absolute_error: 0.0045\n",
      "Epoch 66/80\n",
      "26/26 [==============================] - 0s 7ms/step - loss: 3.4774e-05 - mean_absolute_error: 0.0050\n",
      "Epoch 67/80\n",
      "26/26 [==============================] - 0s 7ms/step - loss: 1.9153e-05 - mean_absolute_error: 0.0039\n",
      "Epoch 68/80\n",
      "26/26 [==============================] - 0s 7ms/step - loss: 8.0316e-06 - mean_absolute_error: 0.0022\n",
      "Epoch 69/80\n",
      "26/26 [==============================] - 0s 7ms/step - loss: 9.0184e-06 - mean_absolute_error: 0.0023\n",
      "Epoch 70/80\n",
      "26/26 [==============================] - 0s 7ms/step - loss: 2.4076e-05 - mean_absolute_error: 0.0042\n",
      "Epoch 71/80\n",
      "26/26 [==============================] - 0s 7ms/step - loss: 1.2365e-05 - mean_absolute_error: 0.0028\n",
      "Epoch 72/80\n",
      "26/26 [==============================] - 0s 7ms/step - loss: 6.7434e-06 - mean_absolute_error: 0.0021\n",
      "Epoch 73/80\n"
     ]
    },
    {
     "name": "stdout",
     "output_type": "stream",
     "text": [
      "26/26 [==============================] - 0s 7ms/step - loss: 5.0628e-06 - mean_absolute_error: 0.0017\n",
      "Epoch 74/80\n",
      "26/26 [==============================] - 0s 7ms/step - loss: 3.2288e-06 - mean_absolute_error: 0.0014\n",
      "Epoch 75/80\n",
      "26/26 [==============================] - 0s 7ms/step - loss: 4.0659e-06 - mean_absolute_error: 0.0016\n",
      "Epoch 76/80\n",
      "26/26 [==============================] - 0s 7ms/step - loss: 6.2043e-06 - mean_absolute_error: 0.0020\n",
      "Epoch 77/80\n",
      "26/26 [==============================] - 0s 7ms/step - loss: 8.2294e-06 - mean_absolute_error: 0.0026\n",
      "Epoch 78/80\n",
      "26/26 [==============================] - 0s 7ms/step - loss: 1.5259e-05 - mean_absolute_error: 0.0035\n",
      "Epoch 79/80\n",
      "26/26 [==============================] - 0s 7ms/step - loss: 3.8058e-06 - mean_absolute_error: 0.0014\n",
      "Epoch 80/80\n",
      "26/26 [==============================] - 0s 7ms/step - loss: 2.2039e-06 - mean_absolute_error: 0.0011\n"
     ]
    },
    {
     "data": {
      "text/plain": [
       "<tensorflow.python.keras.callbacks.History at 0x165afc80cc0>"
      ]
     },
     "execution_count": 52,
     "metadata": {},
     "output_type": "execute_result"
    }
   ],
   "source": [
    "model.fit(sound_data, temp_data, epochs=80, batch_size=20, callbacks=None)"
   ]
  },
  {
   "cell_type": "code",
   "execution_count": 53,
   "metadata": {},
   "outputs": [
    {
     "name": "stdout",
     "output_type": "stream",
     "text": [
      "26/26 [==============================] - 0s 5ms/step\n",
      "Test_loss: 1.957693484655465e-06\n",
      "Test_accuracy: 0.0011329788248986006\n"
     ]
    }
   ],
   "source": [
    "test_loss, test_acc = model.evaluate(sound_data, temp_data)\n",
    "\n",
    "print(\"Test_loss:\", test_loss)\n",
    "print(\"Test_accuracy:\", test_acc)"
   ]
  },
  {
   "cell_type": "code",
   "execution_count": 54,
   "metadata": {},
   "outputs": [
    {
     "name": "stdout",
     "output_type": "stream",
     "text": [
      "4/4 [==============================] - 0s 5ms/step\n",
      "Test_loss: 3623.46875\n",
      "Test_accuracy: 57.38077926635742\n"
     ]
    }
   ],
   "source": [
    "test_loss, test_acc = model.evaluate(prediciton_sound_data, prediciton_temp_data)\n",
    "\n",
    "print(\"Test_loss:\", test_loss)\n",
    "print(\"Test_accuracy:\", test_acc)"
   ]
  },
  {
   "cell_type": "markdown",
   "metadata": {},
   "source": [
    "## モデルで予想をしてみる"
   ]
  },
  {
   "cell_type": "code",
   "execution_count": 55,
   "metadata": {},
   "outputs": [
    {
     "name": "stdout",
     "output_type": "stream",
     "text": [
      "[[21.373583]\n",
      " [34.410004]\n",
      " [30.655178]\n",
      " [34.513958]\n",
      " [41.905914]\n",
      " [37.87197 ]\n",
      " [42.9814  ]\n",
      " [48.15132 ]\n",
      " [47.91251 ]\n",
      " [50.140495]\n",
      " [57.87522 ]\n",
      " [54.993313]\n",
      " [56.34308 ]\n",
      " [68.88635 ]\n",
      " [63.479084]\n",
      " [66.16797 ]\n",
      " [71.68691 ]\n",
      " [75.69704 ]\n",
      " [74.96135 ]\n",
      " [85.445175]\n",
      " [79.28791 ]\n",
      " [82.88701 ]\n",
      " [90.85037 ]\n",
      " [88.364944]\n",
      " [94.036964]\n",
      " [93.91717 ]]\n"
     ]
    }
   ],
   "source": [
    "print(model.predict(sound_data)*100)"
   ]
  },
  {
   "cell_type": "code",
   "execution_count": 57,
   "metadata": {},
   "outputs": [
    {
     "name": "stdout",
     "output_type": "stream",
     "text": [
      "[[27.718845]\n",
      " [56.4799  ]\n",
      " [67.59506 ]\n",
      " [85.89449 ]]\n",
      "[33.  49.8 67.  82.1]\n"
     ]
    }
   ],
   "source": [
    "print(model.predict(prediciton_sound_data)*100)\n",
    "print(prediciton_temp_data)"
   ]
  },
  {
   "cell_type": "code",
   "execution_count": null,
   "metadata": {},
   "outputs": [],
   "source": []
  }
 ],
 "metadata": {
  "kernelspec": {
   "display_name": "Python 3",
   "language": "python",
   "name": "python3"
  },
  "language_info": {
   "codemirror_mode": {
    "name": "ipython",
    "version": 3
   },
   "file_extension": ".py",
   "mimetype": "text/x-python",
   "name": "python",
   "nbconvert_exporter": "python",
   "pygments_lexer": "ipython3",
   "version": "3.6.7"
  }
 },
 "nbformat": 4,
 "nbformat_minor": 2
}
